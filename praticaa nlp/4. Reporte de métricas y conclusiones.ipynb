{
  "cells": [
    {
      "cell_type": "markdown",
      "source": [
        "# **4. Reporte de métricas y conclusiones**\n",
        "\n",
        "Conclusiones generales:\n",
        "\n",
        "En este trabajo, se ha realizado un análisis de sentimiento de las opiniones publicadas en Amazon sobre la categoría de productos \"Digital Music\". El proceso se ha dividido en cuatro etapas principales:\n",
        "\n",
        "1. Descarga y exploración del corpus:\n",
        "\n",
        "En esta etapa, se ha descargado el corpus \"Digital Music\" y se ha realizado un análisis exploratorio de los datos.\n",
        "\n",
        "Se ha observado una alta cardinalidad del vocabulario, lo que indica una gran variedad de términos utilizados en las reseñas.\n",
        "La lematización ha permitido reducir significativamente la cardinalidad, facilitando el análisis posterior.\n",
        "La distribución de las reseñas por número de estrellas ha mostrado una tendencia hacia las puntuaciones positivas, con una mayor concentración de reseñas con 4 y 5 estrellas.\n",
        "El análisis de los bigramas más frecuentes ha permitido identificar las combinaciones de palabras más comunes en las reseñas.\n",
        "La nube de palabras ha visualizado los términos más relevantes en las reseñas, destacando aquellos con mayor frecuencia y tamaño.\n",
        "La visualización de los word embeddings con Word2Vec y t-SNE ha permitido observar las relaciones semánticas entre las palabras seleccionadas.\n",
        "Conclusión: El análisis exploratorio ha permitido obtener una visión global del corpus de reseñas de \"Digital Music\", revelando la satisfacción general de los usuarios, los aspectos más valorados, y las relaciones semánticas entre los términos clave.\n",
        "\n",
        "2. Etapa de preprocesado de texto:\n",
        "\n",
        "Se ha definido una función preprocesar_texto para limpiar y normalizar los datos textuales. Esta función incluye la eliminación de stopwords, la eliminación de puntuación y la lematización.\n",
        "\n",
        "Se ha aplicado esta función a las reseñas de productos para crear una nueva columna con el texto limpio, listo para el análisis de sentimientos.\n",
        "La modularidad del código se ha garantizado mediante el uso de funciones anidadas, lo que facilita su comprensión y mantenimiento.\n",
        "Conclusión: El preprocesamiento de los datos textuales ha sido fundamental para mejorar la calidad y la fiabilidad de los resultados del análisis de sentimientos.\n",
        "\n",
        "3. Etapa de entrenamiento y testeo de un modelo de análisis de sentimiento:\n",
        "\n",
        "Se han entrenado dos modelos distintos: la Regresión Logística y el RNN con LSTM. Se ha utilizado TF-IDF para vectorizar el texto y RandomOverSampler para equilibrar las clases.\n",
        "\n",
        "Se han justificado los parámetros del vectorizador y se han tenido en cuenta aspectos como el balanceo de clases.\n",
        "Se han calculado las métricas de rendimiento (precisión, precisión, exhaustividad, puntuación F1 y AUC) para evaluar los modelos.\n",
        "Conclusión: La Regresión Logística ha obtenido un rendimiento ligeramente superior al RNN con LSTM en la mayoría de las métricas. Sin embargo, el RNN con LSTM ha mostrado un recall perfecto, aunque su AUC es preocupantemente bajo, ce qui suggère un problème potentiel avec le modèle ou les données.\n",
        "\n",
        "4. Reporte de métricas y conclusiones:\n",
        "\n",
        "Se han presentado los resultados de los dos modelos y se ha realizado un análisis comparativo de sus performances.\n",
        "\n",
        "Se ha seleccionado la Regresión Logística como el modelo más adecuado para la tarea de análisis de sentimiento en las opiniones de \"Digital Music\" debido a su buen rendimiento general y su mayor interpretabilidad.\n",
        "Métricas del modelo seleccionado (Regresión Logística):\n",
        "Exactitud: 0.8898\n",
        "Precisión: 0.9785\n",
        "Recall: 0.8947\n",
        "F1-Score: 0.9348\n",
        "AUC: 0.8737\n",
        "Conclusión final:\n",
        "\n",
        "Este trabajo ha demostrado la viabilidad del análisis de sentimiento para la categoría de productos \"Digital Music\" en Amazon. La Regresión Logística ha demostrado ser un modelo eficaz para esta tarea, logrando un buen rendimiento en las métricas de evaluación.\n",
        "\n",
        "Recomendaciones:\n",
        "\n",
        "Se recomienda investigar más a fondo el bajo rendimiento del RNN con LSTM, especialmente su AUC de 0.5. Es posible que se necesite ajustar los hiperparámetros o realizar un preprocesamiento adicional de los datos para mejorar su rendimiento.\n",
        "Se podría explorar la utilización de otros modelos de análisis de sentimiento, como Naive Bayes o Support Vector Machines, para comparar sus performances con la Regresión Logística.\n",
        "Se podría ampliar el análisis a otras categorías de productos de Amazon para evaluar la generalización del modelo."
      ],
      "metadata": {
        "id": "GeUOGyg2nTth"
      }
    },
    {
      "cell_type": "markdown",
      "source": [
        "Si bien el modelo de Regresión Logística ha sido seleccionado para esta tarea debido a su buen equilibrio entre rendimiento e interpretabilidad, es importante destacar que esta elección no lo convierte en el modelo óptimo para el análisis de sentimientos. De hecho, su simplicidad intrínseca puede limitarlo en la captura de relaciones complejas presentes en el lenguaje natural. Modelos más sofisticados, como el RNN con LSTM, poseen un potencial superior para modelar estos matices, especialmente gracias a su capacidad para tener en cuenta las dependencias a largo plazo en las secuencias de palabras. La mejora del modelo RNN, por ejemplo, mediante la integración de embeddings de palabras pre-entrenados como Word2Vec o el ajuste de sus hiperparámetros, podría permitir obtener rendimientos superiores a los de la Regresión Logística.\n",
        "\n",
        "Sin embargo, es crucial considerar la complejidad aumentada de estos modelos y su mayor coste computacional al tomar la decisión final. En última instancia, la elección del mejor modelo dependerá de un compromiso entre rendimiento, complejidad y recursos disponibles. Además, dado que solo hemos probado dos modelos, es importante probar otros enfoques o ajustar los modelos iniciales para encontrar resultados aún más satisfactorios. Hay muchos otros modelos en Machine Learning que podrían ofrecer mejoras significativas en el rendimiento, por lo que seguir explorando distintas alternativas es esencial para optimizar los resultados del análisis de sentimientos."
      ],
      "metadata": {
        "id": "RkQBJkFnoY3w"
      }
    }
  ],
  "metadata": {
    "kernelspec": {
      "display_name": "Python 3",
      "name": "python3"
    },
    "language_info": {
      "codemirror_mode": {
        "name": "ipython",
        "version": 3
      },
      "file_extension": ".py",
      "mimetype": "text/x-python",
      "name": "python",
      "nbconvert_exporter": "python",
      "pygments_lexer": "ipython3",
      "version": "3.11.7"
    },
    "colab": {
      "provenance": [],
      "gpuType": "T4"
    },
    "accelerator": "GPU"
  },
  "nbformat": 4,
  "nbformat_minor": 0
}