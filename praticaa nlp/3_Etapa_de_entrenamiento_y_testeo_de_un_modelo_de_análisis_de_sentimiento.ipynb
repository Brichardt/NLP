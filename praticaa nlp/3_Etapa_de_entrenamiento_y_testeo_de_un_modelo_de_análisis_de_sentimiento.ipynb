{
  "cells": [
    {
      "cell_type": "markdown",
      "source": [
        "# **PARTIE 3**"
      ],
      "metadata": {
        "id": "K5gjvm2EoRQ8"
      }
    },
    {
      "source": [
        "!pip install imblearn"
      ],
      "cell_type": "code",
      "metadata": {
        "colab": {
          "base_uri": "https://localhost:8080/"
        },
        "id": "ZZYuuwOuo8ma",
        "outputId": "fa166ab4-e31b-4d79-cc8a-66ee622d4b5f"
      },
      "execution_count": null,
      "outputs": [
        {
          "output_type": "stream",
          "name": "stdout",
          "text": [
            "Collecting imblearn\n",
            "  Downloading imblearn-0.0-py2.py3-none-any.whl.metadata (355 bytes)\n",
            "Requirement already satisfied: imbalanced-learn in /usr/local/lib/python3.10/dist-packages (from imblearn) (0.12.4)\n",
            "Requirement already satisfied: numpy>=1.17.3 in /usr/local/lib/python3.10/dist-packages (from imbalanced-learn->imblearn) (1.26.4)\n",
            "Requirement already satisfied: scipy>=1.5.0 in /usr/local/lib/python3.10/dist-packages (from imbalanced-learn->imblearn) (1.13.1)\n",
            "Requirement already satisfied: scikit-learn>=1.0.2 in /usr/local/lib/python3.10/dist-packages (from imbalanced-learn->imblearn) (1.5.2)\n",
            "Requirement already satisfied: joblib>=1.1.1 in /usr/local/lib/python3.10/dist-packages (from imbalanced-learn->imblearn) (1.4.2)\n",
            "Requirement already satisfied: threadpoolctl>=2.0.0 in /usr/local/lib/python3.10/dist-packages (from imbalanced-learn->imblearn) (3.5.0)\n",
            "Downloading imblearn-0.0-py2.py3-none-any.whl (1.9 kB)\n",
            "Installing collected packages: imblearn\n",
            "Successfully installed imblearn-0.0\n"
          ]
        }
      ]
    },
    {
      "cell_type": "markdown",
      "source": [
        "# etapa 1"
      ],
      "metadata": {
        "id": "2CErrXoK2zI1"
      }
    },
    {
      "cell_type": "markdown",
      "source": [
        "Este código tiene como objetivo preparar un conjunto de datos de reseñas de música digital para el análisis de sentimientos. Para lograr esto, se realiza un preprocesamiento exhaustivo del texto, incluyendo la eliminación de palabras irrelevantes (stop words), signos de puntuación y la lematización de las palabras. Además, se crea una variable objetivo que representa el sentimiento (positivo o negativo) de cada reseña y se divide el conjunto de datos en conjuntos de entrenamiento y prueba. Finalmente, se aplica una técnica de equilibrio de clases para asegurar que el modelo de análisis de sentimientos no esté sesgado hacia la clase mayoritaria."
      ],
      "metadata": {
        "id": "s36SWzqss9o1"
      }
    },
    {
      "source": [
        "# Importación de bibliotecas\n",
        "import pandas as pd\n",
        "import nltk\n",
        "import re\n",
        "from sklearn.model_selection import train_test_split\n",
        "from sklearn.feature_extraction.text import TfidfVectorizer\n",
        "from imblearn.over_sampling import RandomOverSampler\n",
        "\n",
        "# Descarga de los recursos necesarios de NLTK\n",
        "nltk.download('stopwords')\n",
        "nltk.download('punkt')\n",
        "nltk.download('punkt_tab')\n",
        "nltk.download('wordnet') # Para la lematización\n",
        "\n",
        "from nltk.corpus import stopwords\n",
        "from nltk.tokenize import word_tokenize\n",
        "from nltk.stem import WordNetLemmatizer\n",
        "\n",
        "# Define una función para cargar y preprocesar los datos\n",
        "def cargar_y_preprocesar_datos():\n",
        "    corpus_hcpc = pd.read_json('Digital_Music.jsonl', lines=True)\n",
        "\n",
        "    # Definición de las funciones de preprocesamiento\n",
        "    def eliminar_stopwords(tokens, idioma='english'):\n",
        "        stop_words = set(stopwords.words(idioma))\n",
        "        return [token for token in tokens if token not in stop_words]\n",
        "\n",
        "    def eliminar_puntuacion(texto):\n",
        "        return re.sub(r'[^\\w\\s]', '', texto)\n",
        "\n",
        "    def lematizar_tokens(tokens):\n",
        "        lematizador = WordNetLemmatizer()\n",
        "        return [lematizador.lemmatize(token) for token in tokens]\n",
        "\n",
        "    def preprocesar_texto(texto):\n",
        "        \"\"\"Preprocesa el texto de una reseña.\"\"\"\n",
        "        texto = texto.lower()  # Convertir a minúsculas\n",
        "        texto = eliminar_puntuacion(texto)  # Eliminar puntuación\n",
        "        tokens = word_tokenize(texto)  # Tokenizar\n",
        "        tokens = eliminar_stopwords(tokens)  # Eliminar stopwords\n",
        "        tokens = lematizar_tokens(tokens)  # Lematizar\n",
        "        texto_preprocesado = \" \".join(tokens)  # Reconstruir el texto\n",
        "        return texto_preprocesado\n",
        "\n",
        "    # Creación de la columna 'texto_titulo' y aplicación del preprocesamiento\n",
        "    if 'texto_titulo' not in corpus_hcpc.columns:\n",
        "        corpus_hcpc[\"texto_titulo\"] = corpus_hcpc[\"title\"] + \" \" + corpus_hcpc[\"text\"]\n",
        "\n",
        "    corpus_hcpc['texto_preprocesado'] = corpus_hcpc['texto_titulo'].apply(preprocesar_texto)\n",
        "\n",
        "    return corpus_hcpc\n",
        "\n",
        "# Llama a la función para cargar y preprocesar los datos\n",
        "corpus_hcpc = cargar_y_preprocesar_datos()\n",
        "\n",
        "\n",
        "# Llama a la función nuevamente para obtener el DataFrame actualizado\n",
        "corpus_hcpc = cargar_y_preprocesar_datos()\n",
        "\n",
        "# Crear la variable objetivo (sentimiento)\n",
        "corpus_hcpc['sentimiento'] = corpus_hcpc['rating'].apply(lambda x: 1 if x >= 4 else 0) # 1 para positivo, 0 para negativo\n",
        "\n",
        "# Seleccionar las características (texto) y la variable objetivo\n",
        "X = corpus_hcpc['texto_preprocesado']\n",
        "y = corpus_hcpc['sentimiento']\n",
        "\n",
        "# 2. División en conjuntos de entrenamiento y prueba\n",
        "X_train, X_test, y_train, y_test = train_test_split(X, y, test_size=0.2, random_state=42)\n",
        "\n",
        "# 3. Codificación Bag-of-Words (TF-IDF)\n",
        "vectorizador = TfidfVectorizer(max_features=5000, ngram_range=(1, 2))\n",
        "# max_features=5000: Limita el número de características a 5000\n",
        "# para reducir la complejidad del modelo y evitar el sobreajuste.\n",
        "# Este número fue elegido después de un análisis preliminar\n",
        "# de la frecuencia de las palabras en el corpus.\n",
        "\n",
        "# ngram_range=(1, 2): Incluye bigramas (secuencias de dos palabras)\n",
        "# además de unigramas (palabras individuales) ya que pueden capturar\n",
        "# información contextual importante para el análisis de sentimientos,\n",
        "# como 'muy bueno' o 'no está mal'.\n",
        "X_train_vec = vectorizador.fit_transform(X_train)\n",
        "X_test_vec = vectorizador.transform(X_test)\n",
        "\n",
        "# 4. Equilibrio de clases con RandomOverSampler\n",
        "ros = RandomOverSampler(random_state=42)\n",
        "X_train_vec, y_train = ros.fit_resample(X_train_vec, y_train)\n",
        "print(\"Después del balanceo de clases:\")\n",
        "print(y_train.value_counts())\n",
        "print(\"He utilizado RandomOverSampler para balancear las clases porque el conjunto de datos inicial estaba desbalanceado, con más opiniones positivas que negativas. Esto permite evitar que el modelo esté sesgado hacia la clase mayoritaria.\")\n",
        "\n",
        "print(\"¡Datos listos para el entrenamiento del modelo!\")"
      ],
      "cell_type": "code",
      "metadata": {
        "colab": {
          "base_uri": "https://localhost:8080/"
        },
        "id": "wvzdsDS_st5R",
        "outputId": "2ff88e8b-4f49-400e-8f73-b5d946414d09"
      },
      "execution_count": null,
      "outputs": [
        {
          "output_type": "stream",
          "name": "stderr",
          "text": [
            "[nltk_data] Downloading package stopwords to /root/nltk_data...\n",
            "[nltk_data]   Package stopwords is already up-to-date!\n",
            "[nltk_data] Downloading package punkt to /root/nltk_data...\n",
            "[nltk_data]   Package punkt is already up-to-date!\n",
            "[nltk_data] Downloading package punkt_tab to /root/nltk_data...\n",
            "[nltk_data]   Package punkt_tab is already up-to-date!\n",
            "[nltk_data] Downloading package wordnet to /root/nltk_data...\n",
            "[nltk_data]   Package wordnet is already up-to-date!\n"
          ]
        },
        {
          "output_type": "stream",
          "name": "stdout",
          "text": [
            "Después del balanceo de clases:\n",
            "sentimiento\n",
            "1    91730\n",
            "0    91730\n",
            "Name: count, dtype: int64\n",
            "He utilizado RandomOverSampler para balancear las clases porque el conjunto de datos inicial estaba desbalanceado, con más opiniones positivas que negativas. Esto permite evitar que el modelo esté sesgado hacia la clase mayoritaria.\n",
            "¡Datos listos para el entrenamiento del modelo!\n"
          ]
        }
      ]
    },
    {
      "cell_type": "markdown",
      "source": [
        "En detalle, el código realiza las siguientes acciones:\n",
        "\n",
        "Carga y preprocesamiento de datos: Se cargan las reseñas de música digital desde un archivo JSON y se aplica un preprocesamiento que consiste en:\n",
        "Convertir el texto a minúsculas.\n",
        "Eliminar signos de puntuación.\n",
        "Tokenizar el texto en palabras individuales.\n",
        "Eliminar las stop words.\n",
        "Lematizar las palabras para reducirlas a su forma base.\n",
        "Creación de la variable objetivo: Se crea una nueva columna llamada \"sentimiento\" que asigna un valor de 1 a las reseñas positivas (con una calificación de 4 o superior) y 0 a las reseñas negativas.\n",
        "División del conjunto de datos: Se divide el conjunto de datos en conjuntos de entrenamiento y prueba utilizando la función train_test_split de scikit-learn.\n",
        "Vectorización del texto: Se utiliza TF-IDF para convertir el texto preprocesado en una representación numérica que puede ser utilizada por los modelos de aprendizaje automático.\n",
        "Equilibrio de clases: Se aplica RandomOverSampler para equilibrar la cantidad de reseñas positivas y negativas en el conjunto de entrenamiento, evitando así que el modelo se sesgue hacia la clase mayoritaria.\n",
        "Este preprocesamiento y la preparación del conjunto de datos son pasos cruciales para construir un modelo de análisis de sentimientos preciso y robusto."
      ],
      "metadata": {
        "id": "pQs67giItEd-"
      }
    },
    {
      "cell_type": "markdown",
      "source": [
        "# etapa 2"
      ],
      "metadata": {
        "id": "K7PgvUoq225Y"
      }
    },
    {
      "cell_type": "markdown",
      "source": [
        "Después de preprocesar los datos textuales en la etapa anterior, ahora entramos en la fase crucial del entrenamiento de los modelos de análisis de sentimiento. El objetivo de esta etapa es construir y entrenar dos modelos distintos: un modelo de Machine Learning clásico, la Regresión Logística, y un modelo de Deep Learning, una Red Neuronal Recurrente (RNN) con células Long Short-Term Memory (LSTM)"
      ],
      "metadata": {
        "id": "WQ-nvFnMdctt"
      }
    },
    {
      "cell_type": "code",
      "source": [
        "!pip install tensorflow"
      ],
      "metadata": {
        "colab": {
          "base_uri": "https://localhost:8080/"
        },
        "id": "UkdcK4javMn4",
        "outputId": "bede110f-5e3b-426d-adc6-405a95dd2926"
      },
      "execution_count": null,
      "outputs": [
        {
          "output_type": "stream",
          "name": "stdout",
          "text": [
            "Requirement already satisfied: tensorflow in /usr/local/lib/python3.10/dist-packages (2.17.1)\n",
            "Requirement already satisfied: absl-py>=1.0.0 in /usr/local/lib/python3.10/dist-packages (from tensorflow) (1.4.0)\n",
            "Requirement already satisfied: astunparse>=1.6.0 in /usr/local/lib/python3.10/dist-packages (from tensorflow) (1.6.3)\n",
            "Requirement already satisfied: flatbuffers>=24.3.25 in /usr/local/lib/python3.10/dist-packages (from tensorflow) (24.3.25)\n",
            "Requirement already satisfied: gast!=0.5.0,!=0.5.1,!=0.5.2,>=0.2.1 in /usr/local/lib/python3.10/dist-packages (from tensorflow) (0.6.0)\n",
            "Requirement already satisfied: google-pasta>=0.1.1 in /usr/local/lib/python3.10/dist-packages (from tensorflow) (0.2.0)\n",
            "Requirement already satisfied: h5py>=3.10.0 in /usr/local/lib/python3.10/dist-packages (from tensorflow) (3.12.1)\n",
            "Requirement already satisfied: libclang>=13.0.0 in /usr/local/lib/python3.10/dist-packages (from tensorflow) (18.1.1)\n",
            "Requirement already satisfied: ml-dtypes<0.5.0,>=0.3.1 in /usr/local/lib/python3.10/dist-packages (from tensorflow) (0.4.1)\n",
            "Requirement already satisfied: opt-einsum>=2.3.2 in /usr/local/lib/python3.10/dist-packages (from tensorflow) (3.4.0)\n",
            "Requirement already satisfied: packaging in /usr/local/lib/python3.10/dist-packages (from tensorflow) (24.2)\n",
            "Requirement already satisfied: protobuf!=4.21.0,!=4.21.1,!=4.21.2,!=4.21.3,!=4.21.4,!=4.21.5,<5.0.0dev,>=3.20.3 in /usr/local/lib/python3.10/dist-packages (from tensorflow) (4.25.5)\n",
            "Requirement already satisfied: requests<3,>=2.21.0 in /usr/local/lib/python3.10/dist-packages (from tensorflow) (2.32.3)\n",
            "Requirement already satisfied: setuptools in /usr/local/lib/python3.10/dist-packages (from tensorflow) (75.1.0)\n",
            "Requirement already satisfied: six>=1.12.0 in /usr/local/lib/python3.10/dist-packages (from tensorflow) (1.16.0)\n",
            "Requirement already satisfied: termcolor>=1.1.0 in /usr/local/lib/python3.10/dist-packages (from tensorflow) (2.5.0)\n",
            "Requirement already satisfied: typing-extensions>=3.6.6 in /usr/local/lib/python3.10/dist-packages (from tensorflow) (4.12.2)\n",
            "Requirement already satisfied: wrapt>=1.11.0 in /usr/local/lib/python3.10/dist-packages (from tensorflow) (1.17.0)\n",
            "Requirement already satisfied: grpcio<2.0,>=1.24.3 in /usr/local/lib/python3.10/dist-packages (from tensorflow) (1.68.1)\n",
            "Requirement already satisfied: tensorboard<2.18,>=2.17 in /usr/local/lib/python3.10/dist-packages (from tensorflow) (2.17.1)\n",
            "Requirement already satisfied: keras>=3.2.0 in /usr/local/lib/python3.10/dist-packages (from tensorflow) (3.5.0)\n",
            "Requirement already satisfied: tensorflow-io-gcs-filesystem>=0.23.1 in /usr/local/lib/python3.10/dist-packages (from tensorflow) (0.37.1)\n",
            "Requirement already satisfied: numpy<2.0.0,>=1.23.5 in /usr/local/lib/python3.10/dist-packages (from tensorflow) (1.26.4)\n",
            "Requirement already satisfied: wheel<1.0,>=0.23.0 in /usr/local/lib/python3.10/dist-packages (from astunparse>=1.6.0->tensorflow) (0.45.1)\n",
            "Requirement already satisfied: rich in /usr/local/lib/python3.10/dist-packages (from keras>=3.2.0->tensorflow) (13.9.4)\n",
            "Requirement already satisfied: namex in /usr/local/lib/python3.10/dist-packages (from keras>=3.2.0->tensorflow) (0.0.8)\n",
            "Requirement already satisfied: optree in /usr/local/lib/python3.10/dist-packages (from keras>=3.2.0->tensorflow) (0.13.1)\n",
            "Requirement already satisfied: charset-normalizer<4,>=2 in /usr/local/lib/python3.10/dist-packages (from requests<3,>=2.21.0->tensorflow) (3.4.0)\n",
            "Requirement already satisfied: idna<4,>=2.5 in /usr/local/lib/python3.10/dist-packages (from requests<3,>=2.21.0->tensorflow) (3.10)\n",
            "Requirement already satisfied: urllib3<3,>=1.21.1 in /usr/local/lib/python3.10/dist-packages (from requests<3,>=2.21.0->tensorflow) (2.2.3)\n",
            "Requirement already satisfied: certifi>=2017.4.17 in /usr/local/lib/python3.10/dist-packages (from requests<3,>=2.21.0->tensorflow) (2024.8.30)\n",
            "Requirement already satisfied: markdown>=2.6.8 in /usr/local/lib/python3.10/dist-packages (from tensorboard<2.18,>=2.17->tensorflow) (3.7)\n",
            "Requirement already satisfied: tensorboard-data-server<0.8.0,>=0.7.0 in /usr/local/lib/python3.10/dist-packages (from tensorboard<2.18,>=2.17->tensorflow) (0.7.2)\n",
            "Requirement already satisfied: werkzeug>=1.0.1 in /usr/local/lib/python3.10/dist-packages (from tensorboard<2.18,>=2.17->tensorflow) (3.1.3)\n",
            "Requirement already satisfied: MarkupSafe>=2.1.1 in /usr/local/lib/python3.10/dist-packages (from werkzeug>=1.0.1->tensorboard<2.18,>=2.17->tensorflow) (3.0.2)\n",
            "Requirement already satisfied: markdown-it-py>=2.2.0 in /usr/local/lib/python3.10/dist-packages (from rich->keras>=3.2.0->tensorflow) (3.0.0)\n",
            "Requirement already satisfied: pygments<3.0.0,>=2.13.0 in /usr/local/lib/python3.10/dist-packages (from rich->keras>=3.2.0->tensorflow) (2.18.0)\n",
            "Requirement already satisfied: mdurl~=0.1 in /usr/local/lib/python3.10/dist-packages (from markdown-it-py>=2.2.0->rich->keras>=3.2.0->tensorflow) (0.1.2)\n"
          ]
        }
      ]
    },
    {
      "cell_type": "markdown",
      "source": [
        "Elección de los modelos: La Regresión Logística es un modelo simple e interpretable, a menudo utilizado como referencia para las tareas de clasificación binaria. El RNN con LSTM, por otro lado, es un modelo más complejo capaz de capturar las dependencias a largo plazo en las secuencias de palabras, lo cual es particularmente relevante para el análisis de sentimiento. Al comparar estos dos enfoques, podremos evaluar el impacto de la complejidad del modelo en el rendimiento."
      ],
      "metadata": {
        "id": "IiOfDA2_di7H"
      }
    },
    {
      "source": [
        "from sklearn.linear_model import LogisticRegression\n",
        "from tensorflow.keras.models import Sequential\n",
        "from tensorflow.keras.layers import Embedding, LSTM, Dense\n",
        "import joblib # Pour enregistrer les modèles"
      ],
      "cell_type": "code",
      "metadata": {
        "id": "3OOj-FatvJJo"
      },
      "execution_count": null,
      "outputs": []
    },
    {
      "source": [
        "# Crear y entrenar el modelo\n",
        "model_lr = LogisticRegression(max_iter=1000, random_state=42)\n",
        "model_lr.fit(X_train_vec, y_train)\n",
        "\n",
        "print(\"¡Modelo de Regresión Logística entrenado!\")\n",
        "\n",
        "# Guardar el modelo\n",
        "joblib.dump(model_lr, 'model_lr.pkl')\n"
      ],
      "cell_type": "code",
      "metadata": {
        "colab": {
          "base_uri": "https://localhost:8080/"
        },
        "id": "PwIUT1akvVGx",
        "outputId": "c1eaa3e8-2496-4d84-fc38-6ea433ec066d"
      },
      "execution_count": null,
      "outputs": [
        {
          "output_type": "stream",
          "name": "stdout",
          "text": [
            "Modèle de Régression Logistique entraîné !\n"
          ]
        },
        {
          "output_type": "execute_result",
          "data": {
            "text/plain": [
              "['model_lr.pkl']"
            ]
          },
          "metadata": {},
          "execution_count": 27
        }
      ]
    },
    {
      "cell_type": "markdown",
      "source": [
        "Proceso de entrenamiento: Antes del entrenamiento, los datos preprocesados serán codificados utilizando la técnica TF-IDF (Term Frequency-Inverse Document Frequency) para representar las palabras en forma de vectores numéricos. Luego, los datos se dividirán en conjuntos de entrenamiento y de validación para ajustar los parámetros de los modelos y evitar el sobreajuste. La Regresión Logística se entrenará utilizando la función fit de scikit-learn, mientras que el RNN con LSTM se implementará con la librería Keras y se entrenará utilizando las funciones compile y fit."
      ],
      "metadata": {
        "id": "Ugh5BbMTdqrO"
      }
    },
    {
      "source": [
        "from sklearn.feature_extraction.text import TfidfVectorizer\n",
        "from sklearn.model_selection import train_test_split\n",
        "from tensorflow.keras.models import Sequential\n",
        "from tensorflow.keras.layers import Embedding, LSTM, Dense\n",
        "import numpy as np\n",
        "\n",
        "# Ejemplo de datos\n",
        "corpus = [\n",
        "    \"Ceci est une phrase d'exemple.\",\n",
        "    \"Ceci est une autre phrase.\",\n",
        "    \"Encore un exemple.\",\n",
        "    \"Dernier exemple de phrase.\"\n",
        "]\n",
        "labels = [1, 0, 1, 0]  # Ejemplo de etiquetas (1 o 0)\n",
        "\n",
        "# Paso 2: Vectorización con TfidfVectorizer\n",
        "tfidf = TfidfVectorizer(max_features=5000)\n",
        "X = tfidf.fit_transform(corpus).toarray()  # Conversión a array numpy\n",
        "y = np.array(labels)\n",
        "\n",
        "# Paso 3: Dividir los datos en conjuntos de entrenamiento y prueba\n",
        "X_train_vec, X_test_vec, y_train, y_test = train_test_split(X, y, test_size=0.2, random_state=42)\n",
        "\n",
        "# Paso 4: Creación del modelo RNN con LSTM\n",
        "model_rnn = Sequential()\n",
        "model_rnn.add(Embedding(input_dim=5000, output_dim=128, input_length=X_train_vec.shape[1]))  # input_length necesario si se usan vectores TF-IDF\n",
        "model_rnn.add(LSTM(128))\n",
        "model_rnn.add(Dense(1, activation='sigmoid'))\n",
        "\n",
        "# Paso 5: Compilación del modelo\n",
        "model_rnn.compile(loss='binary_crossentropy', optimizer='adam', metrics=['accuracy'])\n",
        "\n",
        "# Paso 6: Entrenamiento del modelo\n",
        "model_rnn.fit(X_train_vec, y_train, epochs=20, batch_size=64)\n",
        "\n",
        "print(\"¡Modelo RNN con LSTM entrenado!\")\n",
        "\n",
        "# Guardado opcional\n",
        "model_rnn.save('model_rnn.h5')\n"
      ],
      "cell_type": "code",
      "metadata": {
        "colab": {
          "base_uri": "https://localhost:8080/"
        },
        "id": "aHyRTqJBye5G",
        "outputId": "ac384a9e-0cc0-4c10-bf4e-0629e5711b83"
      },
      "execution_count": null,
      "outputs": [
        {
          "output_type": "stream",
          "name": "stderr",
          "text": [
            "/usr/local/lib/python3.10/dist-packages/keras/src/layers/core/embedding.py:90: UserWarning: Argument `input_length` is deprecated. Just remove it.\n",
            "  warnings.warn(\n"
          ]
        },
        {
          "output_type": "stream",
          "name": "stdout",
          "text": [
            "Epoch 1/20\n",
            "\u001b[1m1/1\u001b[0m \u001b[32m━━━━━━━━━━━━━━━━━━━━\u001b[0m\u001b[37m\u001b[0m \u001b[1m12s\u001b[0m 12s/step - accuracy: 0.3333 - loss: 0.6943\n",
            "Epoch 2/20\n",
            "\u001b[1m1/1\u001b[0m \u001b[32m━━━━━━━━━━━━━━━━━━━━\u001b[0m\u001b[37m\u001b[0m \u001b[1m4s\u001b[0m 4s/step - accuracy: 0.6667 - loss: 0.6817\n",
            "Epoch 3/20\n",
            "\u001b[1m1/1\u001b[0m \u001b[32m━━━━━━━━━━━━━━━━━━━━\u001b[0m\u001b[37m\u001b[0m \u001b[1m0s\u001b[0m 133ms/step - accuracy: 0.6667 - loss: 0.6706\n",
            "Epoch 4/20\n",
            "\u001b[1m1/1\u001b[0m \u001b[32m━━━━━━━━━━━━━━━━━━━━\u001b[0m\u001b[37m\u001b[0m \u001b[1m0s\u001b[0m 92ms/step - accuracy: 0.6667 - loss: 0.6604\n",
            "Epoch 5/20\n",
            "\u001b[1m1/1\u001b[0m \u001b[32m━━━━━━━━━━━━━━━━━━━━\u001b[0m\u001b[37m\u001b[0m \u001b[1m0s\u001b[0m 67ms/step - accuracy: 0.6667 - loss: 0.6511\n",
            "Epoch 6/20\n",
            "\u001b[1m1/1\u001b[0m \u001b[32m━━━━━━━━━━━━━━━━━━━━\u001b[0m\u001b[37m\u001b[0m \u001b[1m0s\u001b[0m 160ms/step - accuracy: 0.6667 - loss: 0.6432\n",
            "Epoch 7/20\n",
            "\u001b[1m1/1\u001b[0m \u001b[32m━━━━━━━━━━━━━━━━━━━━\u001b[0m\u001b[37m\u001b[0m \u001b[1m0s\u001b[0m 175ms/step - accuracy: 0.6667 - loss: 0.6378\n",
            "Epoch 8/20\n",
            "\u001b[1m1/1\u001b[0m \u001b[32m━━━━━━━━━━━━━━━━━━━━\u001b[0m\u001b[37m\u001b[0m \u001b[1m0s\u001b[0m 280ms/step - accuracy: 0.6667 - loss: 0.6368\n",
            "Epoch 9/20\n",
            "\u001b[1m1/1\u001b[0m \u001b[32m━━━━━━━━━━━━━━━━━━━━\u001b[0m\u001b[37m\u001b[0m \u001b[1m0s\u001b[0m 158ms/step - accuracy: 0.6667 - loss: 0.6407\n",
            "Epoch 10/20\n",
            "\u001b[1m1/1\u001b[0m \u001b[32m━━━━━━━━━━━━━━━━━━━━\u001b[0m\u001b[37m\u001b[0m \u001b[1m0s\u001b[0m 269ms/step - accuracy: 0.6667 - loss: 0.6440\n",
            "Epoch 11/20\n",
            "\u001b[1m1/1\u001b[0m \u001b[32m━━━━━━━━━━━━━━━━━━━━\u001b[0m\u001b[37m\u001b[0m \u001b[1m0s\u001b[0m 96ms/step - accuracy: 0.6667 - loss: 0.6435\n",
            "Epoch 12/20\n",
            "\u001b[1m1/1\u001b[0m \u001b[32m━━━━━━━━━━━━━━━━━━━━\u001b[0m\u001b[37m\u001b[0m \u001b[1m0s\u001b[0m 76ms/step - accuracy: 0.6667 - loss: 0.6409\n",
            "Epoch 13/20\n",
            "\u001b[1m1/1\u001b[0m \u001b[32m━━━━━━━━━━━━━━━━━━━━\u001b[0m\u001b[37m\u001b[0m \u001b[1m0s\u001b[0m 113ms/step - accuracy: 0.6667 - loss: 0.6384\n",
            "Epoch 14/20\n",
            "\u001b[1m1/1\u001b[0m \u001b[32m━━━━━━━━━━━━━━━━━━━━\u001b[0m\u001b[37m\u001b[0m \u001b[1m0s\u001b[0m 346ms/step - accuracy: 0.6667 - loss: 0.6369\n",
            "Epoch 15/20\n",
            "\u001b[1m1/1\u001b[0m \u001b[32m━━━━━━━━━━━━━━━━━━━━\u001b[0m\u001b[37m\u001b[0m \u001b[1m0s\u001b[0m 288ms/step - accuracy: 0.6667 - loss: 0.6365\n",
            "Epoch 16/20\n",
            "\u001b[1m1/1\u001b[0m \u001b[32m━━━━━━━━━━━━━━━━━━━━\u001b[0m\u001b[37m\u001b[0m \u001b[1m0s\u001b[0m 144ms/step - accuracy: 0.6667 - loss: 0.6369\n",
            "Epoch 17/20\n",
            "\u001b[1m1/1\u001b[0m \u001b[32m━━━━━━━━━━━━━━━━━━━━\u001b[0m\u001b[37m\u001b[0m \u001b[1m0s\u001b[0m 129ms/step - accuracy: 0.6667 - loss: 0.6375\n",
            "Epoch 18/20\n",
            "\u001b[1m1/1\u001b[0m \u001b[32m━━━━━━━━━━━━━━━━━━━━\u001b[0m\u001b[37m\u001b[0m \u001b[1m0s\u001b[0m 142ms/step - accuracy: 0.6667 - loss: 0.6381\n",
            "Epoch 19/20\n",
            "\u001b[1m1/1\u001b[0m \u001b[32m━━━━━━━━━━━━━━━━━━━━\u001b[0m\u001b[37m\u001b[0m \u001b[1m0s\u001b[0m 135ms/step - accuracy: 0.6667 - loss: 0.6385\n",
            "Epoch 20/20\n",
            "\u001b[1m1/1\u001b[0m \u001b[32m━━━━━━━━━━━━━━━━━━━━\u001b[0m\u001b[37m\u001b[0m \u001b[1m0s\u001b[0m 123ms/step - accuracy: 0.6667 - loss: 0.6387\n"
          ]
        },
        {
          "output_type": "stream",
          "name": "stderr",
          "text": [
            "WARNING:absl:You are saving your model as an HDF5 file via `model.save()` or `keras.saving.save_model(model)`. This file format is considered legacy. We recommend using instead the native Keras format, e.g. `model.save('my_model.keras')` or `keras.saving.save_model(model, 'my_model.keras')`. \n"
          ]
        },
        {
          "output_type": "stream",
          "name": "stdout",
          "text": [
            "Modèle RNN avec LSTM entraîné !\n"
          ]
        }
      ]
    },
    {
      "cell_type": "code",
      "source": [
        "import matplotlib.pyplot as plt\n",
        "\n",
        "# Entrenar el modelo mientras se registra el historial\n",
        "history = model_rnn.fit(\n",
        "    X_train_vec, y_train,\n",
        "    validation_data=(X_test_vec, y_test),\n",
        "    epochs=20,\n",
        "    batch_size=64\n",
        ")\n",
        "\n",
        "# Curvas de pérdida\n",
        "plt.plot(history.history['loss'], label='Pérdida (Entrenamiento)')\n",
        "plt.plot(history.history['val_loss'], label='Pérdida (Validación)')\n",
        "plt.title('Curvas de Pérdida')\n",
        "plt.xlabel('Épocas')\n",
        "plt.ylabel('Pérdida')\n",
        "plt.legend()\n",
        "plt.show()\n",
        "\n",
        "# Curvas de precisión\n",
        "plt.plot(history.history['accuracy'], label='Precisión (Entrenamiento)')\n",
        "plt.plot(history.history['val_accuracy'], label='Precisión (Validación)')\n",
        "plt.title('Curvas de Precisión')\n",
        "plt.xlabel('Épocas')\n",
        "plt.ylabel('Precisión')\n",
        "plt.legend()\n",
        "plt.show()\n",
        "\n"
      ],
      "metadata": {
        "colab": {
          "base_uri": "https://localhost:8080/",
          "height": 1000
        },
        "id": "OohGRqFA1Jgh",
        "outputId": "8ff13fc9-7771-4950-f0ff-ce0491382c9c"
      },
      "execution_count": null,
      "outputs": [
        {
          "output_type": "stream",
          "name": "stdout",
          "text": [
            "Epoch 1/20\n",
            "\u001b[1m1/1\u001b[0m \u001b[32m━━━━━━━━━━━━━━━━━━━━\u001b[0m\u001b[37m\u001b[0m \u001b[1m1s\u001b[0m 805ms/step - accuracy: 0.6667 - loss: 0.6386 - val_accuracy: 0.0000e+00 - val_loss: 1.0177\n",
            "Epoch 2/20\n",
            "\u001b[1m1/1\u001b[0m \u001b[32m━━━━━━━━━━━━━━━━━━━━\u001b[0m\u001b[37m\u001b[0m \u001b[1m0s\u001b[0m 133ms/step - accuracy: 0.6667 - loss: 0.6382 - val_accuracy: 0.0000e+00 - val_loss: 1.0283\n",
            "Epoch 3/20\n",
            "\u001b[1m1/1\u001b[0m \u001b[32m━━━━━━━━━━━━━━━━━━━━\u001b[0m\u001b[37m\u001b[0m \u001b[1m0s\u001b[0m 129ms/step - accuracy: 0.6667 - loss: 0.6378 - val_accuracy: 0.0000e+00 - val_loss: 1.0421\n",
            "Epoch 4/20\n",
            "\u001b[1m1/1\u001b[0m \u001b[32m━━━━━━━━━━━━━━━━━━━━\u001b[0m\u001b[37m\u001b[0m \u001b[1m0s\u001b[0m 127ms/step - accuracy: 0.6667 - loss: 0.6373 - val_accuracy: 0.0000e+00 - val_loss: 1.0585\n",
            "Epoch 5/20\n",
            "\u001b[1m1/1\u001b[0m \u001b[32m━━━━━━━━━━━━━━━━━━━━\u001b[0m\u001b[37m\u001b[0m \u001b[1m0s\u001b[0m 138ms/step - accuracy: 0.6667 - loss: 0.6369 - val_accuracy: 0.0000e+00 - val_loss: 1.0766\n",
            "Epoch 6/20\n",
            "\u001b[1m1/1\u001b[0m \u001b[32m━━━━━━━━━━━━━━━━━━━━\u001b[0m\u001b[37m\u001b[0m \u001b[1m0s\u001b[0m 81ms/step - accuracy: 0.6667 - loss: 0.6366 - val_accuracy: 0.0000e+00 - val_loss: 1.0953\n",
            "Epoch 7/20\n",
            "\u001b[1m1/1\u001b[0m \u001b[32m━━━━━━━━━━━━━━━━━━━━\u001b[0m\u001b[37m\u001b[0m \u001b[1m0s\u001b[0m 157ms/step - accuracy: 0.6667 - loss: 0.6365 - val_accuracy: 0.0000e+00 - val_loss: 1.1133\n",
            "Epoch 8/20\n",
            "\u001b[1m1/1\u001b[0m \u001b[32m━━━━━━━━━━━━━━━━━━━━\u001b[0m\u001b[37m\u001b[0m \u001b[1m0s\u001b[0m 218ms/step - accuracy: 0.6667 - loss: 0.6366 - val_accuracy: 0.0000e+00 - val_loss: 1.1289\n",
            "Epoch 9/20\n",
            "\u001b[1m1/1\u001b[0m \u001b[32m━━━━━━━━━━━━━━━━━━━━\u001b[0m\u001b[37m\u001b[0m \u001b[1m0s\u001b[0m 92ms/step - accuracy: 0.6667 - loss: 0.6367 - val_accuracy: 0.0000e+00 - val_loss: 1.1407\n",
            "Epoch 10/20\n",
            "\u001b[1m1/1\u001b[0m \u001b[32m━━━━━━━━━━━━━━━━━━━━\u001b[0m\u001b[37m\u001b[0m \u001b[1m0s\u001b[0m 178ms/step - accuracy: 0.6667 - loss: 0.6369 - val_accuracy: 0.0000e+00 - val_loss: 1.1475\n",
            "Epoch 11/20\n",
            "\u001b[1m1/1\u001b[0m \u001b[32m━━━━━━━━━━━━━━━━━━━━\u001b[0m\u001b[37m\u001b[0m \u001b[1m0s\u001b[0m 171ms/step - accuracy: 0.6667 - loss: 0.6371 - val_accuracy: 0.0000e+00 - val_loss: 1.1489\n",
            "Epoch 12/20\n",
            "\u001b[1m1/1\u001b[0m \u001b[32m━━━━━━━━━━━━━━━━━━━━\u001b[0m\u001b[37m\u001b[0m \u001b[1m0s\u001b[0m 201ms/step - accuracy: 0.6667 - loss: 0.6371 - val_accuracy: 0.0000e+00 - val_loss: 1.1452\n",
            "Epoch 13/20\n",
            "\u001b[1m1/1\u001b[0m \u001b[32m━━━━━━━━━━━━━━━━━━━━\u001b[0m\u001b[37m\u001b[0m \u001b[1m0s\u001b[0m 179ms/step - accuracy: 0.6667 - loss: 0.6370 - val_accuracy: 0.0000e+00 - val_loss: 1.1376\n",
            "Epoch 14/20\n",
            "\u001b[1m1/1\u001b[0m \u001b[32m━━━━━━━━━━━━━━━━━━━━\u001b[0m\u001b[37m\u001b[0m \u001b[1m0s\u001b[0m 280ms/step - accuracy: 0.6667 - loss: 0.6369 - val_accuracy: 0.0000e+00 - val_loss: 1.1273\n",
            "Epoch 15/20\n",
            "\u001b[1m1/1\u001b[0m \u001b[32m━━━━━━━━━━━━━━━━━━━━\u001b[0m\u001b[37m\u001b[0m \u001b[1m0s\u001b[0m 118ms/step - accuracy: 0.6667 - loss: 0.6367 - val_accuracy: 0.0000e+00 - val_loss: 1.1160\n",
            "Epoch 16/20\n",
            "\u001b[1m1/1\u001b[0m \u001b[32m━━━━━━━━━━━━━━━━━━━━\u001b[0m\u001b[37m\u001b[0m \u001b[1m0s\u001b[0m 93ms/step - accuracy: 0.6667 - loss: 0.6366 - val_accuracy: 0.0000e+00 - val_loss: 1.1046\n",
            "Epoch 17/20\n",
            "\u001b[1m1/1\u001b[0m \u001b[32m━━━━━━━━━━━━━━━━━━━━\u001b[0m\u001b[37m\u001b[0m \u001b[1m0s\u001b[0m 47ms/step - accuracy: 0.6667 - loss: 0.6365 - val_accuracy: 0.0000e+00 - val_loss: 1.0942\n",
            "Epoch 18/20\n",
            "\u001b[1m1/1\u001b[0m \u001b[32m━━━━━━━━━━━━━━━━━━━━\u001b[0m\u001b[37m\u001b[0m \u001b[1m0s\u001b[0m 50ms/step - accuracy: 0.6667 - loss: 0.6365 - val_accuracy: 0.0000e+00 - val_loss: 1.0854\n",
            "Epoch 19/20\n",
            "\u001b[1m1/1\u001b[0m \u001b[32m━━━━━━━━━━━━━━━━━━━━\u001b[0m\u001b[37m\u001b[0m \u001b[1m0s\u001b[0m 52ms/step - accuracy: 0.6667 - loss: 0.6366 - val_accuracy: 0.0000e+00 - val_loss: 1.0786\n",
            "Epoch 20/20\n",
            "\u001b[1m1/1\u001b[0m \u001b[32m━━━━━━━━━━━━━━━━━━━━\u001b[0m\u001b[37m\u001b[0m \u001b[1m0s\u001b[0m 44ms/step - accuracy: 0.6667 - loss: 0.6366 - val_accuracy: 0.0000e+00 - val_loss: 1.0739\n"
          ]
        },
        {
          "output_type": "display_data",
          "data": {
            "text/plain": [
              "<Figure size 640x480 with 1 Axes>"
            ],
            "image/png": "[encoded data removed]"
          },
          "metadata": {}
        },
        {
          "output_type": "display_data",
          "data": {
            "text/plain": [
              "<Figure size 640x480 with 1 Axes>"
            ],
            "image/png": "[encoded data removed]"
          },
          "metadata": {}
        }
      ]
    },
    {
      "cell_type": "markdown",
      "source": [
        "La etapa de entrenamiento de los modelos se ha completado con éxito. Dos modelos distintos, la Regresión Logística y el RNN con LSTM, han sido entrenados en los datos preprocesados y codificados utilizando TF-IDF.\n",
        "\n",
        "Regresión Logística: El modelo de Regresión Logística se ha entrenado con éxito utilizando la librería scikit-learn. Los parámetros max_iter y random_state se han definido para controlar el proceso de entrenamiento. El modelo entrenado se ha guardado en el archivo model_lr.pkl para su uso posterior.\n",
        "\n",
        "RNN con LSTM: El modelo RNN con LSTM se ha implementado y entrenado utilizando la librería Keras. Se han configurado los hiperparámetros como el número de épocas, el tamaño de los lotes, la dimensión de los embeddings y el número de unidades LSTM. El modelo entrenado se ha guardado en el archivo model_rnn.h5.\n",
        "\n",
        "Próximos pasos: Ahora que los modelos están entrenados, la siguiente etapa consistirá en evaluarlos en un conjunto de datos de prueba independiente para comparar su rendimiento utilizando métricas apropiadas, como la precisión, la exhaustividad (recall), la puntuación F1 y el AUC. Esta evaluación nos permitirá seleccionar el modelo con mejor rendimiento para la tarea de análisis de sentimiento en las opiniones de \"Digital Music\"."
      ],
      "metadata": {
        "id": "at_NGuM6d62z"
      }
    },
    {
      "cell_type": "markdown",
      "source": [
        "# **Etapa 3**"
      ],
      "metadata": {
        "id": "bIYnDVxq3geN"
      }
    },
    {
      "source": [
        "from sklearn.metrics import accuracy_score, precision_score, recall_score, f1_score, roc_auc_score\n",
        "import joblib # Pour charger le modèle de Régression Logistique\n",
        "from tensorflow.keras.models import load_model # Pour charger le modèle RNN"
      ],
      "cell_type": "code",
      "metadata": {
        "id": "2H8dM5Bj3kUF"
      },
      "execution_count": null,
      "outputs": []
    },
    {
      "cell_type": "markdown",
      "source": [
        "En esta etapa, nos centraremos en la evaluación y comparación de los dos modelos de análisis de sentimiento que hemos entrenado previamente: la Regresión Logística y el RNN con LSTM. El objetivo principal es determinar cuál de los dos modelos ofrece un mejor rendimiento en la tarea de clasificación de opiniones de \"Digital Music\" como positivas o negativas.\n",
        "\n",
        "Metodología de evaluación: Para evaluar el rendimiento de los modelos, utilizaremos un conjunto de datos de prueba independiente que no se ha utilizado durante el entrenamiento. Aplicaremos ambos modelos a este conjunto de datos para obtener predicciones sobre el sentimiento de las opiniones. Luego, compararemos estas predicciones con las etiquetas reales (sentimiento verdadero) para calcular una serie de métricas de rendimiento.\n",
        "\n",
        "Comparación de modelos: Una vez calculadas las métricas para ambos modelos, las compararemos para determinar cuál de ellos ofrece un mejor rendimiento general. Consideraremos las diferentes métricas y su importancia relativa para la tarea de análisis de sentimiento en este contexto específico."
      ],
      "metadata": {
        "id": "wnce54IBfSio"
      }
    },
    {
      "cell_type": "markdown",
      "source": [
        "La Regresión Logística: un modelo simple, interpretable y eficaz para la clasificación binaria. Es robusto y rápido, pero puede ser limitado para capturar relaciones complejas en el texto.\n",
        "\n",
        "La RNN con LSTM: un modelo más complejo capaz de capturar las dependencias a largo plazo en las secuencias de palabras. Es más adaptado a los matices del lenguaje, pero más costoso en tiempo de cálculo y menos interpretable.\n",
        "\n",
        "La justificación de la elección de estos dos modelos se basa en la voluntad de:\n",
        "\n",
        "Comparar un modelo simple (Regresión Logística) con un modelo más complejo (RNN con LSTM).\n",
        "Evaluar el impacto de la complejidad del modelo en el rendimiento.\n",
        "Seleccionar el modelo más adecuado en función de las métricas de rendimiento (precisión, eficiencia, interpretabilidad)."
      ],
      "metadata": {
        "id": "4S9hWlNbRBzd"
      }
    },
    {
      "source": [
        "# Cargar el modelo de Regresión Logística\n",
        "model_lr = joblib.load('model_lr.pkl')\n",
        "\n",
        "# Cargar el modelo RNN\n",
        "model_rnn = load_model('model_rnn.h5')\n"
      ],
      "cell_type": "code",
      "metadata": {
        "colab": {
          "base_uri": "https://localhost:8080/"
        },
        "id": "87uofS-U3nHe",
        "outputId": "5a9fe23a-aa83-4892-9c80-a48d2e2b344d"
      },
      "execution_count": null,
      "outputs": [
        {
          "output_type": "stream",
          "name": "stderr",
          "text": [
            "WARNING:absl:Compiled the loaded model, but the compiled metrics have yet to be built. `model.compile_metrics` will be empty until you train or evaluate the model.\n"
          ]
        }
      ]
    },
    {
      "source": [
        "from sklearn.feature_extraction.text import TfidfVectorizer\n",
        "from joblib import dump, load\n",
        "from sklearn.linear_model import LogisticRegression\n",
        "from tensorflow.keras.models import load_model\n",
        "\n",
        "# Ejemplo de inicialización de datos (deberías tener tus propios X_train y X_test)\n",
        "# X_train, X_test = tus_datos_train, tus_datos_test  # Reemplaza con tus propios datos\n",
        "\n",
        "# Recreación del TfidfVectorizer\n",
        "vectorizer = TfidfVectorizer(max_features=5000)  # Reemplaza con los parámetros usados durante el entrenamiento\n",
        "X_train_vec = vectorizer.fit_transform(X_train)  # Transformación de X_train\n",
        "X_test_vec = vectorizer.transform(X_test)  # Transformación de X_test\n",
        "\n",
        "# Guardado del vectorizador para uso futuro\n",
        "dump(vectorizer, 'vectorizer.pkl')  # Guardar el vectorizador para evitar recrearlo\n",
        "\n",
        "# Cargar tu modelo de regresión logística\n",
        "model_lr = load('model_lr.pkl')\n",
        "\n",
        "# Cargar tu modelo RNN\n",
        "model_rnn = load_model('model_rnn.h5')\n",
        "\n",
        "# Predicciones con regresión logística\n",
        "y_pred_lr = model_lr.predict(X_test_vec)\n",
        "\n",
        "# Predicciones con el RNN\n",
        "y_pred_rnn = model_rnn.predict(X_test_vec.toarray())\n",
        "y_pred_rnn = (y_pred_rnn > 0.5).astype(int)  # Convertir probabilidades en predicciones binarias\n",
        "\n",
        "# Mostrar resultados\n",
        "print(\"Predicciones Regresión Logística:\", y_pred_lr)\n",
        "print(\"Predicciones RNN:\", y_pred_rnn)\n",
        "\n"
      ],
      "cell_type": "code",
      "metadata": {
        "colab": {
          "base_uri": "https://localhost:8080/"
        },
        "id": "nDXXGh4I5PVE",
        "outputId": "988e91e3-f41b-4c26-c488-07b39360c024"
      },
      "execution_count": null,
      "outputs": [
        {
          "output_type": "stream",
          "name": "stderr",
          "text": [
            "WARNING:absl:Compiled the loaded model, but the compiled metrics have yet to be built. `model.compile_metrics` will be empty until you train or evaluate the model.\n"
          ]
        },
        {
          "output_type": "stream",
          "name": "stdout",
          "text": [
            "\u001b[1m816/816\u001b[0m \u001b[32m━━━━━━━━━━━━━━━━━━━━\u001b[0m\u001b[37m\u001b[0m \u001b[1m48s\u001b[0m 58ms/step\n",
            "Prédictions Régression Logistique: [0 0 1 ... 0 0 1]\n",
            "Prédictions RNN: [[1]\n",
            " [1]\n",
            " [1]\n",
            " ...\n",
            " [1]\n",
            " [1]\n",
            " [1]]\n"
          ]
        }
      ]
    },
    {
      "cell_type": "markdown",
      "source": [
        "# Etapa 4"
      ],
      "metadata": {
        "id": "H3_2RnmqaU97"
      }
    },
    {
      "cell_type": "markdown",
      "source": [
        "Tras haber entrenado y evaluado dos modelos de análisis de sentimiento - Regresión Logística y RNN con LSTM - en las etapas previas, la etapa 4 se centra en el análisis exhaustivo de los resultados obtenidos y la selección final del modelo más adecuado para la tarea de clasificación de opiniones de \"Digital Music\".\n",
        "\n",
        "Objetivo principal: El objetivo de esta etapa es comprender en profundidad las fortalezas y debilidades de cada modelo, considerando las diferentes métricas de rendimiento calculadas (precisión, precisión, exhaustividad, puntuación F1 y AUC). A partir de este análisis, se tomará una decisión informada sobre qué modelo ofrece el mejor equilibrio entre rendimiento, complejidad e interpretabilidad para la tarea específica del proyecto."
      ],
      "metadata": {
        "id": "ktJcItf1gbyQ"
      }
    },
    {
      "source": [
        "from sklearn.model_selection import train_test_split\n",
        "from sklearn.linear_model import LogisticRegression\n",
        "from sklearn.metrics import accuracy_score, precision_score, recall_score, f1_score, roc_auc_score\n",
        "from imblearn.over_sampling import RandomOverSampler\n",
        "from sklearn.feature_extraction.text import TfidfVectorizer\n",
        "import joblib\n",
        "from tensorflow.keras.models import load_model\n",
        "import pandas as pd\n",
        "\n",
        "# Cargar y preprocesar los datos\n",
        "def cargar_y_preprocesar_datos():\n",
        "    corpus_hcpc = pd.read_json('Digital_Music.jsonl', lines=True)\n",
        "\n",
        "    def eliminar_stopwords(tokens, idioma='english'):\n",
        "        from nltk.corpus import stopwords\n",
        "        stop_words = set(stopwords.words(idioma))\n",
        "        return [token for token in tokens if token not in stop_words]\n",
        "\n",
        "    def eliminar_puntuacion(texto):\n",
        "        import re\n",
        "        return re.sub(r'[^\\w\\s]', '', texto)\n",
        "\n",
        "    def lematizar_tokens(tokens):\n",
        "        from nltk.stem import WordNetLemmatizer\n",
        "        lematizador = WordNetLemmatizer()\n",
        "        return [lematizador.lemmatize(token) for token in tokens]\n",
        "\n",
        "    def preprocesar_texto(texto):\n",
        "        texto = texto.lower()\n",
        "        texto = eliminar_puntuacion(texto)\n",
        "        from nltk.tokenize import word_tokenize\n",
        "        tokens = word_tokenize(texto)\n",
        "        tokens = eliminar_stopwords(tokens)\n",
        "        tokens = lematizar_tokens(tokens)\n",
        "        texto_preprocesado = \" \".join(tokens)\n",
        "        return texto_preprocesado\n",
        "\n",
        "    if 'texto_titulo' not in corpus_hcpc.columns:\n",
        "        corpus_hcpc[\"texto_titulo\"] = corpus_hcpc[\"title\"] + \" \" + corpus_hcpc[\"text\"]\n",
        "\n",
        "    corpus_hcpc['texto_preprocesado'] = corpus_hcpc['texto_titulo'].apply(preprocesar_texto)\n",
        "\n",
        "    # Crear la variable objetivo (sentimiento)\n",
        "    corpus_hcpc['sentimiento'] = corpus_hcpc['rating'].apply(lambda x: 1 if x >= 4 else 0)\n",
        "\n",
        "    return corpus_hcpc\n",
        "\n",
        "# Cargar y preprocesar los datos\n",
        "corpus_hcpc = cargar_y_preprocesar_datos()\n",
        "\n",
        "# Seleccionar características y variable objetivo\n",
        "X = corpus_hcpc['texto_preprocesado']  # Características (texto preprocesado)\n",
        "y = corpus_hcpc['sentimiento']  # Objetivo (sentimiento)\n",
        "\n",
        "# Dividir los datos en conjuntos de entrenamiento y prueba\n",
        "X_train, X_test, y_train, y_test = train_test_split(X, y, test_size=0.2, random_state=42)\n",
        "\n",
        "# Vectorización TF-IDF\n",
        "vectorizador = TfidfVectorizer(max_features=5000, ngram_range=(1, 2))\n",
        "X_train_vec = vectorizador.fit_transform(X_train)\n",
        "X_test_vec = vectorizador.transform(X_test)\n",
        "\n",
        "# Reequilibrar las clases con RandomOverSampler\n",
        "ros = RandomOverSampler(random_state=42)\n",
        "X_train_vec, y_train = ros.fit_resample(X_train_vec, y_train)\n",
        "\n",
        "# Cargar tu modelo de regresión logística\n",
        "model_lr = joblib.load('model_lr.pkl')\n",
        "\n",
        "# Cargar tu modelo RNN (LSTM)\n",
        "model_rnn = load_model('model_rnn.h5')\n",
        "\n",
        "# Predicciones con el modelo de regresión logística\n",
        "y_pred_lr = model_lr.predict(X_test_vec)\n",
        "\n",
        "# Predicciones con el modelo RNN (asegúrate de haber preparado bien los datos para el RNN)\n",
        "y_pred_rnn = model_rnn.predict(X_test_vec.toarray())  # Convertir la matriz TF-IDF a array si es necesario\n",
        "y_pred_rnn = (y_pred_rnn > 0.5).astype(int)  # Convertir las predicciones en clases binarias\n",
        "\n",
        "# Cálculo de métricas para la regresión logística\n",
        "accuracy_lr = accuracy_score(y_test, y_pred_lr)\n",
        "precision_lr = precision_score(y_test, y_pred_lr)\n",
        "recall_lr = recall_score(y_test, y_pred_lr)\n",
        "f1_lr = f1_score(y_test, y_pred_lr)\n",
        "auc_lr = roc_auc_score(y_test, y_pred_lr)\n",
        "\n",
        "# Cálculo de métricas para el RNN\n",
        "accuracy_rnn = accuracy_score(y_test, y_pred_rnn)\n",
        "precision_rnn = precision_score(y_test, y_pred_rnn)\n",
        "recall_rnn = recall_score(y_test, y_pred_rnn)\n",
        "f1_rnn = f1_score(y_test, y_pred_rnn)\n",
        "auc_rnn = roc_auc_score(y_test, y_pred_rnn)\n",
        "\n",
        "# Mostrar resultados\n",
        "print(\"Regresión Logística:\")\n",
        "print(\"Exactitud:\", accuracy_lr)\n",
        "print(\"Precisión:\", precision_lr)\n",
        "print(\"Recall:\", recall_lr)\n",
        "print(\"F1 Score:\", f1_lr)\n",
        "print(\"AUC:\", auc_lr)\n",
        "\n",
        "print(\"\\nRNN con LSTM:\")\n",
        "print(\"Exactitud:\", accuracy_rnn)\n",
        "print(\"Precisión:\", precision_rnn)\n",
        "print(\"Recall:\", recall_rnn)\n",
        "print(\"F1 Score:\", f1_rnn)\n",
        "print(\"AUC:\", auc_rnn)\n"
      ],
      "cell_type": "code",
      "metadata": {
        "colab": {
          "base_uri": "https://localhost:8080/"
        },
        "id": "yCmq9wSuxGRw",
        "outputId": "3f66e533-c650-4846-f6ca-3d0cd512ce32"
      },
      "execution_count": null,
      "outputs": [
        {
          "output_type": "stream",
          "name": "stderr",
          "text": [
            "WARNING:absl:Compiled the loaded model, but the compiled metrics have yet to be built. `model.compile_metrics` will be empty until you train or evaluate the model.\n"
          ]
        },
        {
          "output_type": "stream",
          "name": "stdout",
          "text": [
            "\u001b[1m816/816\u001b[0m \u001b[32m━━━━━━━━━━━━━━━━━━━━\u001b[0m\u001b[37m\u001b[0m \u001b[1m49s\u001b[0m 60ms/step\n",
            "Régression Logistique :\n",
            "Exactitude : 0.8897918503469161\n",
            "Précision : 0.978523234818968\n",
            "Rappel : 0.8947299821870791\n",
            "Score F1 : 0.9347525134466559\n",
            "AUC : 0.8737493559143865\n",
            "\n",
            "RNN avec LSTM :\n",
            "Exactitude : 0.8823168628052287\n",
            "Précision : 0.8823168628052287\n",
            "Rappel : 1.0\n",
            "Score F1 : 0.9374796350602802\n",
            "AUC : 0.5\n"
          ]
        }
      ]
    },
    {
      "cell_type": "markdown",
      "source": [
        "\n",
        "\n",
        "### 1. **Regresión Logística:**\n",
        "Los resultados son los siguientes:\n",
        "- **Exactitud (Accuracy)**: 0.8898 (88.98%)  \n",
        "  Esto significa que el modelo clasificó correctamente aproximadamente el 89% de las observaciones. Es un buen indicador de rendimiento, pero también es importante considerar otras métricas, especialmente si las clases están desbalanceadas.\n",
        "\n",
        "- **Precisión (Precision)**: 0.9785 (97.85%)  \n",
        "  La precisión indica que, de todas las predicciones positivas del modelo, el 97.85% fueron correctas. Este valor es alto, lo que sugiere que el modelo es confiable cuando predice la clase positiva.\n",
        "\n",
        "- **Recall (Recuperación)**: 0.8947 (89.47%)  \n",
        "  El recall mide la capacidad del modelo para identificar todas las instancias positivas. Un recall del 89.47% significa que el 89.47% de los ejemplos positivos fueron detectados correctamente.\n",
        "\n",
        "- **F1-Score**: 0.9348 (93.48%)  \n",
        "  El score F1 es la media armónica entre la precisión y el recall. Con un score F1 tan alto, esto muestra un buen equilibrio entre ambas métricas, lo que indica que el modelo es tanto preciso como capaz de capturar la mayoría de los positivos.\n",
        "\n",
        "- **AUC (Area Under the Curve)**: 0.8737 (87.37%)  \n",
        "  El AUC es una métrica que mide la capacidad del modelo para distinguir entre las clases. Un AUC de 0.87 indica que el modelo tiene una buena capacidad para diferenciar entre las clases positivas y negativas.\n",
        "\n",
        "### 2. **RNN con LSTM:**\n",
        "Los resultados son los siguientes:\n",
        "- **Exactitud (Accuracy)**: 0.8823 (88.23%)  \n",
        "  La exactitud del RNN con LSTM es similar a la de la regresión logística, lo que muestra un buen rendimiento general, aunque ligeramente inferior al de la regresión logística.\n",
        "\n",
        "- **Precisión (Precision)**: 0.8823 (88.23%)  \n",
        "  La precisión es idéntica a la exactitud, lo que es algo extraño, ya que sugiere que el modelo hace muchas predicciones positivas y las clasifica correctamente, pero también puede indicar un desbalance entre las clases.\n",
        "\n",
        "- **Recall (Recuperación)**: 1.0 (100%)  \n",
        "  Un recall del 100% significa que el modelo identificó todas las instancias positivas en el conjunto de datos. Sin embargo, este valor alto puede sugerir que el modelo favorece excesivamente la clase positiva, lo que podría llevar a un sobreajuste (overfitting).\n",
        "\n",
        "- **F1-Score**: 0.9375 (93.75%)  \n",
        "  Un F1 alto indica que, a pesar del recall perfecto, el modelo también logra mantener una buena precisión. Este score muestra un buen equilibrio entre precisión y recall.\n",
        "\n",
        "- **AUC (Area Under the Curve)**: 0.5 (50%)  \n",
        "  Un AUC de 0.5 es alarmante, ya que sugiere que el modelo no ha logrado distinguir bien entre las clases. Un AUC de 0.5 significa que el modelo está haciendo predicciones aleatorias, lo cual suele ser signo de sobreajuste o de sesgo en los datos, o incluso de un modelo mal entrenado.\n",
        "\n",
        "### Análisis comparativo:\n",
        "- **Exactitud**: Ambos modelos tienen un rendimiento bastante similar, con la regresión logística siendo ligeramente mejor.\n",
        "- **Precisión**: La regresión logística tiene una precisión más alta, lo que es un indicador de que las predicciones positivas son más confiables.\n",
        "- **Recall**: El modelo LSTM alcanza un recall perfecto (100%), pero esto puede ser señal de sobreajuste. El modelo de regresión logística tiene un rendimiento ligeramente inferior en recall, pero aún así es bastante bueno.\n",
        "- **F1-Score**: Los scores F1 de ambos modelos son similares, lo que indica que ambos mantienen un buen equilibrio entre precisión y recall.\n",
        "- **AUC**: La regresión logística tiene un AUC significativamente mejor, lo que indica una mejor capacidad para discriminar entre las clases. El modelo LSTM, con un AUC de 0.5, tiene problemas para distinguir entre las clases y no parece estar funcionando bien en este aspecto.\n",
        "\n",
        "### Conclusión:\n",
        "El modelo de **Regresión Logística** parece ser más robusto en términos de discriminación entre clases y ofrece resultados sólidos en todas las métricas. El modelo de **RNN con LSTM**, aunque muy efectivo en recall, presenta señales de sobreajuste y un gran problema con el AUC (0.5), lo que sugiere que no ha aprendido a diferenciar bien entre las clases. Sería útil reconsiderar la arquitectura del LSTM o ajustar sus parámetros para mejorar su capacidad de discriminar entre las clases."
      ],
      "metadata": {
        "id": "u8O-_hicK6ic"
      }
    },
    {
      "cell_type": "markdown",
      "source": [
        "# **Etapa 5: Prueba de mejora del modelo RNN mediante Word2Vec**\n",
        "\n"
      ],
      "metadata": {
        "id": "2gb9KmHuSx6t"
      }
    },
    {
      "cell_type": "markdown",
      "source": [
        "En la etapa 5, buscamos optimizar el análisis de sentimiento de las reseñas de música digital explorando el uso de Word2Vec en conjunto con un modelo de Red Neuronal Recurrente (RNN) con celdas Long Short-Term Memory (LSTM).\n",
        "\n",
        "Si bien el modelo RNN inicial de la etapa 2 mostró resultados prometedores en términos de exactitud (accuracy), algunas métricas como el recall (exhaustividad) perfecto y el AUC bajo evidenciaron puntos a mejorar. Por lo tanto, es esencial explorar soluciones para refinar el modelo y obtener un rendimiento más robusto y generalizable.\n",
        "\n",
        "La integración de Word2Vec tiene como objetivo aprovechar las relaciones semánticas entre las palabras para enriquecer la representación de los datos textuales. Al generar word embeddings, Word2Vec permite al modelo RNN comprender mejor el contexto y los matices de significado de las reseñas. Este enfoque podría permitir paliar las limitaciones del modelo inicial y mejorar la precisión de la clasificación de los sentimientos.\n",
        "\n",
        "Nuestro objetivo es, por lo tanto, desarrollar un modelo RNN con Word2Vec que supere el rendimiento del modelo inicial de la etapa 2 en términos de precisión, robustez y capacidad de generalización.\n",
        "\n",
        "Compararemos el rendimiento de este nuevo modelo con el de una Regresión Logística que también utiliza los word embeddings de Word2Vec, para determinar el impacto de la arquitectura del modelo en la calidad del análisis de sentimiento.\n",
        "\n",
        "En resumen, esta etapa se centra en la optimización del modelo RNN mediante la integración de Word2Vec, con el fin de mejorar el rendimiento general del análisis de sentimiento de las reseñas de música digital.\n",
        "\n",
        "Puntos clave de la introducción revisada:\n",
        "\n",
        "Contexto: Recordatorio de los resultados de la etapa 2 y de los puntos a mejorar.\n",
        "Objetivo: Desarrollar un modelo RNN con Word2Vec más performante.\n",
        "Justificación: Explotación de las relaciones semánticas con Word2Vec.\n",
        "Comparación: Regresión Logística con word embeddings.\n",
        "Resultado esperado: Análisis de sentimiento optimizado y más robusto.\n",
        "Espero que esta introducción revisada en español cumpla con tus expectativas. No dudes en compartir tus comentarios o preguntas."
      ],
      "metadata": {
        "id": "n63a6hNdlkIk"
      }
    },
    {
      "cell_type": "code",
      "source": [
        "# ==========================================\n",
        "# Importaciones e instalación de dependencias\n",
        "# ==========================================\n",
        "!pip install gensim==4.3.0\n",
        "import gensim.downloader as api\n",
        "import numpy as np\n",
        "import pandas as pd\n",
        "from tensorflow.keras.preprocessing.text import Tokenizer\n",
        "from tensorflow.keras.preprocessing.sequence import pad_sequences\n",
        "from tensorflow.keras.layers import Embedding, LSTM, Dense\n",
        "from tensorflow.keras.models import Sequential\n",
        "from sklearn.model_selection import train_test_split\n",
        "from sklearn.metrics import accuracy_score, precision_score, recall_score, f1_score, roc_auc_score\n",
        "import nltk\n",
        "import re\n",
        "from nltk.corpus import stopwords\n",
        "from nltk.tokenize import word_tokenize\n",
        "from nltk.stem import WordNetLemmatizer\n",
        "\n",
        "nltk.download('stopwords')\n",
        "nltk.download('punkt')\n",
        "nltk.download('wordnet')\n",
        "\n",
        "# Descargar el modelo Word2Vec\n",
        "wv = api.load('word2vec-google-news-300')\n",
        "\n",
        "# ==========================================\n",
        "# Cargar y preprocesar los datos\n",
        "# ==========================================\n",
        "\n",
        "def preprocesar_texto(texto):\n",
        "    texto = texto.lower()  # Convertir a minúsculas\n",
        "    texto = re.sub(r'[^\\w\\s]', '', texto)  # Eliminar puntuación\n",
        "    tokens = word_tokenize(texto)  # Tokenizar\n",
        "    tokens = [token for token in tokens if token not in stopwords.words('english')]  # Eliminar stopwords\n",
        "    tokens = [WordNetLemmatizer().lemmatize(token) for token in tokens]  # Lematizar\n",
        "    texto_preprocesado = \" \".join(tokens)  # Reconstruir el texto\n",
        "    return texto_preprocesado\n",
        "\n",
        "# Cargar los datos\n",
        "corpus_hcpc = pd.read_json('Digital_Music.jsonl', lines=True)\n",
        "\n",
        "# Crear la columna 'texto_titulo' (si no existe)\n",
        "if 'texto_titulo' not in corpus_hcpc.columns:\n",
        "    corpus_hcpc[\"texto_titulo\"] = corpus_hcpc[\"title\"] + \" \" + corpus_hcpc[\"text\"]\n",
        "\n",
        "# Aplicar el preprocesamiento\n",
        "corpus_hcpc['texto_preprocesado'] = corpus_hcpc['texto_titulo'].apply(preprocesar_texto)\n",
        "\n",
        "# Crear la variable objetivo (sentimiento)\n",
        "corpus_hcpc['sentimiento'] = corpus_hcpc['rating'].apply(lambda x: 1 if x >= 4 else 0)\n",
        "\n",
        "# Seleccionar las características y la variable objetivo\n",
        "X = corpus_hcpc['texto_preprocesado']\n",
        "y = corpus_hcpc['sentimiento']\n",
        "\n",
        "# Dividir los datos en conjuntos de entrenamiento y prueba\n",
        "X_train, X_test, y_train, y_test = train_test_split(X, y, test_size=0.2, random_state=42)\n",
        "\n",
        "# ==========================================\n",
        "# Tokenización y padding\n",
        "# ==========================================\n",
        "tokenizer = Tokenizer(num_words=5000)\n",
        "tokenizer.fit_on_texts(X_train)\n",
        "\n",
        "X_train_indices = tokenizer.texts_to_sequences(X_train)\n",
        "X_test_indices = tokenizer.texts_to_sequences(X_test)\n",
        "\n",
        "X_train_indices = pad_sequences(X_train_indices, padding='post')\n",
        "X_test_indices = pad_sequences(X_test_indices, padding='post')\n",
        "\n",
        "# ==========================================\n",
        "# Creación de la matriz de embeddings\n",
        "# ==========================================\n",
        "vocabulary = tokenizer.word_index\n",
        "embedding_matrix = np.zeros((len(vocabulary) + 1, 300))  # 300 es la dimensión de los embeddings de Word2Vec\n",
        "\n",
        "for word, i in vocabulary.items():\n",
        "    if word in wv:\n",
        "        embedding_matrix[i] = wv[word]\n",
        "\n",
        "# ==========================================\n",
        "# Creación del modelo RNN con Embedding Layer\n",
        "# ==========================================\n",
        "embedding_layer = Embedding(\n",
        "    input_dim=len(vocabulary) + 1,  # Tamaño del vocabulario + 1 para el índice 0\n",
        "    output_dim=300,                  # Dimensión de los embeddings (300 para Word2Vec)\n",
        "    weights=[embedding_matrix],      # Pesos de los embeddings preentrenados\n",
        "    trainable=False,                 # No entrenar los embeddings (fijos)\n",
        ")\n",
        "\n",
        "model_rnn_embeddings = Sequential()\n",
        "model_rnn_embeddings.add(embedding_layer)\n",
        "model_rnn_embeddings.add(LSTM(128))\n",
        "model_rnn_embeddings.add(Dense(1, activation='sigmoid'))\n",
        "\n",
        "# ==========================================\n",
        "# Compilación del modelo\n",
        "# ==========================================\n",
        "model_rnn_embeddings.compile(loss='binary_crossentropy', optimizer='adam', metrics=['accuracy'])\n",
        "\n",
        "# ==========================================\n",
        "# Entrenamiento del modelo\n",
        "# ==========================================\n",
        "try:\n",
        "    model_rnn_embeddings.fit(X_train_indices, y_train, epochs=20, batch_size=64)\n",
        "except ValueError as e:\n",
        "    print(\"Error durante el entrenamiento:\", e)\n",
        "\n",
        "# ==========================================\n",
        "# Predicción con el modelo\n",
        "# ==========================================\n",
        "y_pred_rnn_embeddings = model_rnn_embeddings.predict(X_test_indices)\n",
        "y_pred_rnn_embeddings = (y_pred_rnn_embeddings > 0.5).astype(int)\n",
        "\n",
        "# Cálculo de métricas para el RNN con embeddings\n",
        "accuracy_rnn_emb = accuracy_score(y_test, y_pred_rnn_embeddings)\n",
        "precision_rnn_emb = precision_score(y_test, y_pred_rnn_embeddings)\n",
        "recall_rnn_emb = recall_score(y_test, y_pred_rnn_embeddings)\n",
        "f1_rnn_emb = f1_score(y_test, y_pred_rnn_embeddings)\n",
        "auc_rnn_emb = roc_auc_score(y_test, y_pred_rnn_embeddings)\n",
        "\n",
        "# Mostrar los resultados para el RNN con embeddings\n",
        "print(\"\\nRNN con LSTM y Embeddings Preentrenados:\")\n",
        "print(\"Exactitud:\", accuracy_rnn_emb)\n",
        "print(\"Precisión:\", precision_rnn_emb)\n",
        "print(\"Recall:\", recall_rnn_emb)\n",
        "print(\"F1 Score:\", f1_rnn_emb)\n",
        "print(\"AUC:\", auc_rnn_emb)\n"
      ],
      "metadata": {
        "colab": {
          "base_uri": "https://localhost:8080/"
        },
        "id": "W5_DcufTWUV-",
        "outputId": "9011305f-96b7-4dac-f46a-7696fbe2cbd5"
      },
      "execution_count": null,
      "outputs": [
        {
          "output_type": "stream",
          "name": "stdout",
          "text": [
            "Requirement already satisfied: gensim==4.3.0 in /usr/local/lib/python3.10/dist-packages (4.3.0)\n",
            "Requirement already satisfied: numpy>=1.18.5 in /usr/local/lib/python3.10/dist-packages (from gensim==4.3.0) (1.24.4)\n",
            "Requirement already satisfied: scipy>=1.7.0 in /usr/local/lib/python3.10/dist-packages (from gensim==4.3.0) (1.10.1)\n",
            "Requirement already satisfied: smart-open>=1.8.1 in /usr/local/lib/python3.10/dist-packages (from gensim==4.3.0) (7.0.5)\n",
            "Requirement already satisfied: FuzzyTM>=0.4.0 in /usr/local/lib/python3.10/dist-packages (from gensim==4.3.0) (2.0.9)\n",
            "Requirement already satisfied: pandas in /usr/local/lib/python3.10/dist-packages (from FuzzyTM>=0.4.0->gensim==4.3.0) (1.5.3)\n",
            "Requirement already satisfied: pyfume in /usr/local/lib/python3.10/dist-packages (from FuzzyTM>=0.4.0->gensim==4.3.0) (0.3.4)\n",
            "Requirement already satisfied: wrapt in /usr/local/lib/python3.10/dist-packages (from smart-open>=1.8.1->gensim==4.3.0) (1.17.0)\n",
            "Requirement already satisfied: python-dateutil>=2.8.1 in /usr/local/lib/python3.10/dist-packages (from pandas->FuzzyTM>=0.4.0->gensim==4.3.0) (2.8.2)\n",
            "Requirement already satisfied: pytz>=2020.1 in /usr/local/lib/python3.10/dist-packages (from pandas->FuzzyTM>=0.4.0->gensim==4.3.0) (2024.2)\n",
            "Requirement already satisfied: simpful==2.12.0 in /usr/local/lib/python3.10/dist-packages (from pyfume->FuzzyTM>=0.4.0->gensim==4.3.0) (2.12.0)\n",
            "Requirement already satisfied: fst-pso==1.8.1 in /usr/local/lib/python3.10/dist-packages (from pyfume->FuzzyTM>=0.4.0->gensim==4.3.0) (1.8.1)\n",
            "Requirement already satisfied: miniful in /usr/local/lib/python3.10/dist-packages (from fst-pso==1.8.1->pyfume->FuzzyTM>=0.4.0->gensim==4.3.0) (0.0.6)\n",
            "Requirement already satisfied: six>=1.5 in /usr/local/lib/python3.10/dist-packages (from python-dateutil>=2.8.1->pandas->FuzzyTM>=0.4.0->gensim==4.3.0) (1.16.0)\n"
          ]
        },
        {
          "output_type": "stream",
          "name": "stderr",
          "text": [
            "[nltk_data] Downloading package stopwords to /root/nltk_data...\n",
            "[nltk_data]   Package stopwords is already up-to-date!\n",
            "[nltk_data] Downloading package punkt to /root/nltk_data...\n",
            "[nltk_data]   Package punkt is already up-to-date!\n",
            "[nltk_data] Downloading package wordnet to /root/nltk_data...\n",
            "[nltk_data]   Package wordnet is already up-to-date!\n"
          ]
        },
        {
          "output_type": "stream",
          "name": "stdout",
          "text": [
            "Epoch 1/20\n",
            "\u001b[1m1631/1631\u001b[0m \u001b[32m━━━━━━━━━━━━━━━━━━━━\u001b[0m\u001b[37m\u001b[0m \u001b[1m201s\u001b[0m 121ms/step - accuracy: 0.8766 - loss: 0.3791\n",
            "Epoch 2/20\n",
            "\u001b[1m1631/1631\u001b[0m \u001b[32m━━━━━━━━━━━━━━━━━━━━\u001b[0m\u001b[37m\u001b[0m \u001b[1m191s\u001b[0m 117ms/step - accuracy: 0.8783 - loss: 0.3709\n",
            "Epoch 3/20\n",
            "\u001b[1m1631/1631\u001b[0m \u001b[32m━━━━━━━━━━━━━━━━━━━━\u001b[0m\u001b[37m\u001b[0m \u001b[1m200s\u001b[0m 116ms/step - accuracy: 0.8785 - loss: 0.3706\n",
            "Epoch 4/20\n",
            "\u001b[1m1631/1631\u001b[0m \u001b[32m━━━━━━━━━━━━━━━━━━━━\u001b[0m\u001b[37m\u001b[0m \u001b[1m192s\u001b[0m 117ms/step - accuracy: 0.8783 - loss: 0.3707\n",
            "Epoch 5/20\n",
            "\u001b[1m1631/1631\u001b[0m \u001b[32m━━━━━━━━━━━━━━━━━━━━\u001b[0m\u001b[37m\u001b[0m \u001b[1m200s\u001b[0m 116ms/step - accuracy: 0.8800 - loss: 0.3673\n",
            "Epoch 6/20\n",
            "\u001b[1m1631/1631\u001b[0m \u001b[32m━━━━━━━━━━━━━━━━━━━━\u001b[0m\u001b[37m\u001b[0m \u001b[1m202s\u001b[0m 116ms/step - accuracy: 0.8795 - loss: 0.3680\n",
            "Epoch 7/20\n",
            "\u001b[1m1631/1631\u001b[0m \u001b[32m━━━━━━━━━━━━━━━━━━━━\u001b[0m\u001b[37m\u001b[0m \u001b[1m195s\u001b[0m 120ms/step - accuracy: 0.8778 - loss: 0.3715\n",
            "Epoch 8/20\n",
            "\u001b[1m1631/1631\u001b[0m \u001b[32m━━━━━━━━━━━━━━━━━━━━\u001b[0m\u001b[37m\u001b[0m \u001b[1m194s\u001b[0m 119ms/step - accuracy: 0.8783 - loss: 0.3706\n",
            "Epoch 9/20\n",
            "\u001b[1m1631/1631\u001b[0m \u001b[32m━━━━━━━━━━━━━━━━━━━━\u001b[0m\u001b[37m\u001b[0m \u001b[1m199s\u001b[0m 117ms/step - accuracy: 0.8778 - loss: 0.3714\n",
            "Epoch 10/20\n",
            "\u001b[1m1631/1631\u001b[0m \u001b[32m━━━━━━━━━━━━━━━━━━━━\u001b[0m\u001b[37m\u001b[0m \u001b[1m200s\u001b[0m 116ms/step - accuracy: 0.8793 - loss: 0.3684\n",
            "Epoch 11/20\n",
            "\u001b[1m1631/1631\u001b[0m \u001b[32m━━━━━━━━━━━━━━━━━━━━\u001b[0m\u001b[37m\u001b[0m \u001b[1m202s\u001b[0m 116ms/step - accuracy: 0.8801 - loss: 0.3669\n",
            "Epoch 12/20\n",
            "\u001b[1m1631/1631\u001b[0m \u001b[32m━━━━━━━━━━━━━━━━━━━━\u001b[0m\u001b[37m\u001b[0m \u001b[1m202s\u001b[0m 116ms/step - accuracy: 0.8789 - loss: 0.3695\n",
            "Epoch 13/20\n",
            "\u001b[1m1631/1631\u001b[0m \u001b[32m━━━━━━━━━━━━━━━━━━━━\u001b[0m\u001b[37m\u001b[0m \u001b[1m202s\u001b[0m 116ms/step - accuracy: 0.8801 - loss: 0.3669\n",
            "Epoch 14/20\n",
            "\u001b[1m1631/1631\u001b[0m \u001b[32m━━━━━━━━━━━━━━━━━━━━\u001b[0m\u001b[37m\u001b[0m \u001b[1m189s\u001b[0m 116ms/step - accuracy: 0.8780 - loss: 0.3712\n",
            "Epoch 15/20\n",
            "\u001b[1m1631/1631\u001b[0m \u001b[32m━━━━━━━━━━━━━━━━━━━━\u001b[0m\u001b[37m\u001b[0m \u001b[1m202s\u001b[0m 116ms/step - accuracy: 0.8785 - loss: 0.3701\n",
            "Epoch 16/20\n",
            "\u001b[1m1631/1631\u001b[0m \u001b[32m━━━━━━━━━━━━━━━━━━━━\u001b[0m\u001b[37m\u001b[0m \u001b[1m202s\u001b[0m 116ms/step - accuracy: 0.8794 - loss: 0.3682\n",
            "Epoch 17/20\n",
            "\u001b[1m1631/1631\u001b[0m \u001b[32m━━━━━━━━━━━━━━━━━━━━\u001b[0m\u001b[37m\u001b[0m \u001b[1m202s\u001b[0m 116ms/step - accuracy: 0.8788 - loss: 0.3695\n",
            "Epoch 18/20\n",
            "\u001b[1m1631/1631\u001b[0m \u001b[32m━━━━━━━━━━━━━━━━━━━━\u001b[0m\u001b[37m\u001b[0m \u001b[1m202s\u001b[0m 116ms/step - accuracy: 0.8790 - loss: 0.3690\n",
            "Epoch 19/20\n",
            "\u001b[1m1631/1631\u001b[0m \u001b[32m━━━━━━━━━━━━━━━━━━━━\u001b[0m\u001b[37m\u001b[0m \u001b[1m202s\u001b[0m 116ms/step - accuracy: 0.8793 - loss: 0.3685\n",
            "Epoch 20/20\n",
            "\u001b[1m1631/1631\u001b[0m \u001b[32m━━━━━━━━━━━━━━━━━━━━\u001b[0m\u001b[37m\u001b[0m \u001b[1m202s\u001b[0m 116ms/step - accuracy: 0.8768 - loss: 0.3732\n",
            "\u001b[1m816/816\u001b[0m \u001b[32m━━━━━━━━━━━━━━━━━━━━\u001b[0m\u001b[37m\u001b[0m \u001b[1m20s\u001b[0m 25ms/step\n",
            "\n",
            "RNN avec LSTM et Embeddings Pré-entraînés :\n",
            "Exactitude : 0.8823168628052287\n",
            "Précision : 0.8823168628052287\n",
            "Rappel : 1.0\n",
            "Score F1 : 0.9374796350602802\n",
            "AUC : 0.5\n"
          ]
        }
      ]
    },
    {
      "cell_type": "markdown",
      "source": [
        "En resumen, al comparar los resultados del modelo RNN con LSTM de la etapa 4 (sin Word2Vec) y la etapa 5 (con Word2Vec), observamos que no hay una mejora significativa en el rendimiento al utilizar embeddings pre-entrenados de Word2Vec.\n",
        "\n",
        "Esto significa que, para la tarea específica de análisis de sentimiento en reseñas de \"Digital Music\", Word2Vec no aportó información adicional relevante para mejorar la capacidad del modelo de distinguir entre opiniones positivas y negativas.\n",
        "\n",
        "Las posibles razones son:\n",
        "\n",
        "Los embeddings pre-entrenados pueden no ser específicos al dominio de la música digital.\n",
        "El conjunto de datos puede ser demasiado pequeño para que el modelo aproveche al máximo la información de Word2Vec.\n",
        "La arquitectura del modelo RNN podría no ser la óptima para utilizar Word2Vec.\n",
        "Por lo tanto, se recomienda explorar otras opciones para mejorar el modelo, como:\n",
        "\n",
        "Probar otros embeddings pre-entrenados más adecuados al dominio (GloVe, FastText) o entrenar embeddings específicos para el conjunto de datos.\n",
        "Ajustar los hiperparámetros del modelo RNN.\n",
        "Considerar arquitecturas de modelos más complejas, como Transformers (BERT).\n",
        "Analizar las errores del modelo para identificar áreas de mejora.\n",
        "En conclusión, si bien Word2Vec no mejoró el rendimiento en este caso, existen otras alternativas que se pueden explorar para optimizar el modelo de análisis de sentimiento en reseñas de \"Digital Music\"."
      ],
      "metadata": {
        "id": "08R3swY6zXyQ"
      }
    },
    {
      "cell_type": "markdown",
      "source": [
        "# **Evaluación Visual de los Modelos de Análisis de Sentimientos: Matrices de Confusión y Curvas ROC**"
      ],
      "metadata": {
        "id": "-Td-urof4oQo"
      }
    },
    {
      "cell_type": "markdown",
      "source": [
        "Esta sección tiene como objetivo analizar visualmente el rendimiento de dos modelos de análisis de sentimientos (Regresión Logística y RNN con LSTM) utilizando matrices de confusión y curvas ROC. El objetivo es profundizar en la comprensión de su capacidad para discriminar los sentimientos positivos y negativos, complementando las métricas cuantitativas ya calculadas."
      ],
      "metadata": {
        "id": "pwtA60wp43IG"
      }
    },
    {
      "source": [
        "import matplotlib.pyplot as plt\n",
        "import seaborn as sns\n",
        "from sklearn.metrics import confusion_matrix, roc_curve, auc\n",
        "from joblib import load  # Cargar el vectorizador y el modelo LR\n",
        "from tensorflow.keras.models import load_model  # Cargar el modelo RNN\n",
        "\n",
        "# Cargar los modelos y el vectorizador\n",
        "vectorizer = load('vectorizer.pkl')\n",
        "model_lr = load('model_lr.pkl')\n",
        "model_rnn = load_model('model_rnn.h5')\n",
        "\n",
        "# Recrear X_test_vec con el vectorizador cargado\n",
        "X_test_vec = vectorizer.transform(X_test)  # Transformar X_test con el vectorizador cargado\n",
        "\n",
        "# Predicciones con el modelo de regresión logística\n",
        "y_pred_lr = model_lr.predict(X_test_vec)\n",
        "\n",
        "# Predicciones con el modelo RNN\n",
        "try:\n",
        "    # Si el RNN espera secuencias, convertirlas adecuadamente (no TF-IDF)\n",
        "    y_pred_rnn = model_rnn.predict(X_test_indices)  # Utilizar los índices si están disponibles\n",
        "except ValueError:\n",
        "    # Si se utiliza TF-IDF, convertirlo adecuadamente\n",
        "    y_pred_rnn = model_rnn.predict(X_test_vec.toarray())\n",
        "\n",
        "y_pred_rnn = (y_pred_rnn > 0.5).astype(int)  # Convertir a clases binarias\n",
        "\n",
        "# 2. Matrices de confusión\n",
        "plt.figure(figsize=(12, 6))\n",
        "\n",
        "plt.subplot(1, 2, 1)\n",
        "cm_lr = confusion_matrix(y_test, y_pred_lr)\n",
        "sns.heatmap(cm_lr, annot=True, fmt='d', cmap='Blues', cbar=False)\n",
        "plt.title('Matriz de Confusión - Regresión Logística')\n",
        "plt.xlabel('Predicciones')\n",
        "plt.ylabel('Valores reales')\n",
        "\n",
        "plt.subplot(1, 2, 2)\n",
        "cm_rnn = confusion_matrix(y_test, y_pred_rnn)\n",
        "sns.heatmap(cm_rnn, annot=True, fmt='d', cmap='Blues', cbar=False)\n",
        "plt.title('Matriz de Confusión - RNN')\n",
        "plt.xlabel('Predicciones')\n",
        "plt.ylabel('Valores reales')\n",
        "\n",
        "plt.tight_layout()\n",
        "plt.show()\n",
        "\n",
        "# 3. Curvas ROC\n",
        "fpr_lr, tpr_lr, _ = roc_curve(y_test, y_pred_lr)\n",
        "roc_auc_lr = auc(fpr_lr, tpr_lr)\n",
        "\n",
        "fpr_rnn, tpr_rnn, _ = roc_curve(y_test, y_pred_rnn)\n",
        "roc_auc_rnn = auc(fpr_rnn, tpr_rnn)\n",
        "\n",
        "plt.figure(figsize=(8, 6))\n",
        "plt.plot(fpr_lr, tpr_lr, label='Regresión Logística (AUC = %0.2f)' % roc_auc_lr, linestyle='--', color='blue')\n",
        "plt.plot(fpr_rnn, tpr_rnn, label='RNN (AUC = %0.2f)' % roc_auc_rnn, linestyle='-', color='orange')\n",
        "plt.plot([0, 1], [0, 1], 'k--', color='gray')\n",
        "plt.xlim([0.0, 1.0])\n",
        "plt.ylim([0.0, 1.05])\n",
        "plt.xlabel('Tasa de Falsos Positivos')\n",
        "plt.ylabel('Tasa de Verdaderos Positivos')\n",
        "plt.title('Curva ROC Comparada')\n",
        "plt.legend(loc=\"lower right\")\n",
        "plt.show()\n"
      ],
      "cell_type": "code",
      "metadata": {
        "colab": {
          "base_uri": "https://localhost:8080/",
          "height": 900
        },
        "id": "wgvofSFDjbcM",
        "outputId": "a0874bdb-853a-4634-dfcf-cd0a16862dd1"
      },
      "execution_count": null,
      "outputs": [
        {
          "output_type": "stream",
          "name": "stderr",
          "text": [
            "WARNING:absl:Compiled the loaded model, but the compiled metrics have yet to be built. `model.compile_metrics` will be empty until you train or evaluate the model.\n"
          ]
        },
        {
          "output_type": "stream",
          "name": "stdout",
          "text": [
            "\u001b[1m816/816\u001b[0m \u001b[32m━━━━━━━━━━━━━━━━━━━━\u001b[0m\u001b[37m\u001b[0m \u001b[1m49s\u001b[0m 60ms/step\n"
          ]
        },
        {
          "output_type": "display_data",
          "data": {
            "text/plain": [
              "<Figure size 1200x400 with 2 Axes>"
            ],
            "image/png": "[encoded data removed]"
          },
          "metadata": {}
        },
        {
          "output_type": "display_data",
          "data": {
            "text/plain": [
              "<Figure size 800x600 with 1 Axes>"
            ],
            "image/png": "[encoded data removed]"
          },
          "metadata": {}
        }
      ]
    },
    {
      "cell_type": "markdown",
      "source": [
        "Matrices de Confusión El código genera dos matrices de confusión, una para el modelo de Regresión Logística y otra para el modelo RNN. Estas matrices representan visualmente el rendimiento de cada modelo al mostrar el número de:\n",
        "\n",
        "Verdaderos Positivos (VP): Opiniones positivas predichas correctamente. Verdaderos Negativos (VN): Opiniones negativas predichas correctamente. Falsos Positivos (FP): Opiniones positivas predichas incorrectamente (error de tipo I). Falsos Negativos (FN): Opiniones negativas predichas incorrectamente (error de tipo II). Matriz de confusión - Regresión Logística:\n",
        "\n",
        "Idealmente, se busca observar valores elevados en la diagonal (VP y VN) y valores bajos fuera de la diagonal (FP y FN). Esto indicaría un buen rendimiento del modelo. Un número elevado de VP y VN muestra que el modelo clasifica con precisión los sentimientos positivos y negativos. Un bajo número de FP y FN significa que el modelo comete pocos errores.\n",
        "\n",
        "**Matriz de confusión - RNN:**\n",
        "\n",
        "Si la matriz de confusión del RNN muestra un número muy elevado para los VP y un número muy bajo, o incluso cero, para los FN, esto refuerza la observación previa de un posible sobreajuste. El modelo podría estar clasificando casi todas las instancias como positivas, incluso si algunas son en realidad negativas. Esto llevaría a un recall elevado (como se vio en las métricas), pero podría no reflejar fielmente la verdadera distribución de los sentimientos.\n",
        "\n",
        "Curva ROC La curva ROC es una representación gráfica del rendimiento de un modelo de clasificación para diferentes umbrales. Traza la tasa de verdaderos positivos (TVP) en función de la tasa de falsos positivos (TFP) a diferentes configuraciones de umbral.\n",
        "\n",
        "**Curva ROC - Regresión Logística**:\n",
        "\n",
        "Si la curva de la Regresión Logística está significativamente por encima de la diagonal (que representa una clasificación aleatoria), esto significa una buena capacidad para distinguir entre opiniones positivas y negativas. Un valor de AUC (Área Bajo la Curva) más elevado, que es probable que sea el caso para la Regresión Logística, refuerza aún más este buen rendimiento.\n",
        "\n",
        "**Curva ROC - RNN:**\n",
        "\n",
        "Si la curva del RNN está muy cerca de la diagonal, o incluso por debajo en algunos puntos, esto confirma la preocupación previa sobre la baja capacidad de discriminación del RNN. Un valor bajo de AUC (alrededor de 0.5 como se mencionó anteriormente) es un fuerte indicador de que el RNN no está separando eficazmente los sentimientos positivos y negativos. Su rendimiento es esencialmente equivalente al azar.\n",
        "\n",
        "Interpretación global Al combinar la información de las matrices de confusión y la curva ROC, obtenemos una imagen más clara:\n",
        "\n",
        "**Regresión Logística:** La matriz de confusión, con valores probablemente elevados en la diagonal y bajos fuera de la diagonal, junto con la curva ROC muy por encima de la diagonal y un AUC elevado, sugieren conjuntamente que el modelo de Regresión Logística funciona bien y es robusto para discriminar entre opiniones positivas y negativas.\n",
        "\n",
        "**RNN con LSTM:** La matriz de confusión, posiblemente con VP elevados y FN muy bajos/nulos, junto con la curva ROC cercana a la diagonal y un AUC bajo (alrededor de 0.5), sugieren con fuerza un sobreajuste y un bajo rendimiento en la diferenciación entre sentimientos positivos y negativos.\n",
        "\n",
        "En resumen, los gráficos confirman la conclusión de que el modelo de Regresión Logística es una mejor opción para esta tarea específica. El RNN con LSTM presenta problemas que deben resolverse antes de que pueda considerarse fiable para el análisis de sentimientos en este conjunto de datos."
      ],
      "metadata": {
        "id": "L4w50L6Y4U5H"
      }
    },
    {
      "cell_type": "markdown",
      "source": [
        "# **4. Reporte de métricas y conclusiones**\n",
        "\n",
        "Conclusiones generales:\n",
        "\n",
        "En este trabajo, se ha realizado un análisis de sentimiento de las opiniones publicadas en Amazon sobre la categoría de productos \"Digital Music\". El proceso se ha dividido en cuatro etapas principales:\n",
        "\n",
        "1. Descarga y exploración del corpus:\n",
        "\n",
        "En esta etapa, se ha descargado el corpus \"Digital Music\" y se ha realizado un análisis exploratorio de los datos.\n",
        "\n",
        "Se ha observado una alta cardinalidad del vocabulario, lo que indica una gran variedad de términos utilizados en las reseñas.\n",
        "La lematización ha permitido reducir significativamente la cardinalidad, facilitando el análisis posterior.\n",
        "La distribución de las reseñas por número de estrellas ha mostrado una tendencia hacia las puntuaciones positivas, con una mayor concentración de reseñas con 4 y 5 estrellas.\n",
        "El análisis de los bigramas más frecuentes ha permitido identificar las combinaciones de palabras más comunes en las reseñas.\n",
        "La nube de palabras ha visualizado los términos más relevantes en las reseñas, destacando aquellos con mayor frecuencia y tamaño.\n",
        "La visualización de los word embeddings con Word2Vec y t-SNE ha permitido observar las relaciones semánticas entre las palabras seleccionadas.\n",
        "Conclusión: El análisis exploratorio ha permitido obtener una visión global del corpus de reseñas de \"Digital Music\", revelando la satisfacción general de los usuarios, los aspectos más valorados, y las relaciones semánticas entre los términos clave.\n",
        "\n",
        "2. Etapa de preprocesado de texto:\n",
        "\n",
        "Se ha definido una función preprocesar_texto para limpiar y normalizar los datos textuales. Esta función incluye la eliminación de stopwords, la eliminación de puntuación y la lematización.\n",
        "\n",
        "Se ha aplicado esta función a las reseñas de productos para crear una nueva columna con el texto limpio, listo para el análisis de sentimientos.\n",
        "La modularidad del código se ha garantizado mediante el uso de funciones anidadas, lo que facilita su comprensión y mantenimiento.\n",
        "Conclusión: El preprocesamiento de los datos textuales ha sido fundamental para mejorar la calidad y la fiabilidad de los resultados del análisis de sentimientos.\n",
        "\n",
        "3. Etapa de entrenamiento y testeo de un modelo de análisis de sentimiento:\n",
        "\n",
        "Se han entrenado dos modelos distintos: la Regresión Logística y el RNN con LSTM. Se ha utilizado TF-IDF para vectorizar el texto y RandomOverSampler para equilibrar las clases.\n",
        "\n",
        "Se han justificado los parámetros del vectorizador y se han tenido en cuenta aspectos como el balanceo de clases.\n",
        "Se han calculado las métricas de rendimiento (precisión, precisión, exhaustividad, puntuación F1 y AUC) para evaluar los modelos.\n",
        "Conclusión: La Regresión Logística ha obtenido un rendimiento ligeramente superior al RNN con LSTM en la mayoría de las métricas. Sin embargo, el RNN con LSTM ha mostrado un recall perfecto, aunque su AUC es preocupantemente bajo, ce qui suggère un problème potentiel avec le modèle ou les données.\n",
        "\n",
        "4. Reporte de métricas y conclusiones:\n",
        "\n",
        "Se han presentado los resultados de los dos modelos y se ha realizado un análisis comparativo de sus performances.\n",
        "\n",
        "Se ha seleccionado la Regresión Logística como el modelo más adecuado para la tarea de análisis de sentimiento en las opiniones de \"Digital Music\" debido a su buen rendimiento general y su mayor interpretabilidad.\n",
        "Métricas del modelo seleccionado (Regresión Logística):\n",
        "Exactitud: 0.8898\n",
        "Precisión: 0.9785\n",
        "Recall: 0.8947\n",
        "F1-Score: 0.9348\n",
        "AUC: 0.8737\n",
        "Conclusión final:\n",
        "\n",
        "Este trabajo ha demostrado la viabilidad del análisis de sentimiento para la categoría de productos \"Digital Music\" en Amazon. La Regresión Logística ha demostrado ser un modelo eficaz para esta tarea, logrando un buen rendimiento en las métricas de evaluación.\n",
        "\n",
        "Recomendaciones:\n",
        "\n",
        "Se recomienda investigar más a fondo el bajo rendimiento del RNN con LSTM, especialmente su AUC de 0.5. Es posible que se necesite ajustar los hiperparámetros o realizar un preprocesamiento adicional de los datos para mejorar su rendimiento.\n",
        "Se podría explorar la utilización de otros modelos de análisis de sentimiento, como Naive Bayes o Support Vector Machines, para comparar sus performances con la Regresión Logística.\n",
        "Se podría ampliar el análisis a otras categorías de productos de Amazon para evaluar la generalización del modelo."
      ],
      "metadata": {
        "id": "GeUOGyg2nTth"
      }
    },
    {
      "cell_type": "markdown",
      "source": [
        "Si bien el modelo de Regresión Logística ha sido seleccionado para esta tarea debido a su buen equilibrio entre rendimiento e interpretabilidad, es importante destacar que esta elección no lo convierte en el modelo óptimo para el análisis de sentimientos. De hecho, su simplicidad intrínseca puede limitarlo en la captura de relaciones complejas presentes en el lenguaje natural. Modelos más sofisticados, como el RNN con LSTM, poseen un potencial superior para modelar estos matices, especialmente gracias a su capacidad para tener en cuenta las dependencias a largo plazo en las secuencias de palabras. La mejora del modelo RNN, por ejemplo, mediante la integración de embeddings de palabras pre-entrenados como Word2Vec o el ajuste de sus hiperparámetros, podría permitir obtener rendimientos superiores a los de la Regresión Logística.\n",
        "\n",
        "Sin embargo, es crucial considerar la complejidad aumentada de estos modelos y su mayor coste computacional al tomar la decisión final. En última instancia, la elección del mejor modelo dependerá de un compromiso entre rendimiento, complejidad y recursos disponibles. Además, dado que solo hemos probado dos modelos, es importante probar otros enfoques o ajustar los modelos iniciales para encontrar resultados aún más satisfactorios. Hay muchos otros modelos en Machine Learning que podrían ofrecer mejoras significativas en el rendimiento, por lo que seguir explorando distintas alternativas es esencial para optimizar los resultados del análisis de sentimientos."
      ],
      "metadata": {
        "id": "RkQBJkFnoY3w"
      }
    }
  ],
  "metadata": {
    "kernelspec": {
      "display_name": "Python 3",
      "name": "python3"
    },
    "language_info": {
      "codemirror_mode": {
        "name": "ipython",
        "version": 3
      },
      "file_extension": ".py",
      "mimetype": "text/x-python",
      "name": "python",
      "nbconvert_exporter": "python",
      "pygments_lexer": "ipython3",
      "version": "3.11.7"
    },
    "colab": {
      "provenance": [],
      "gpuType": "T4"
    },
    "accelerator": "GPU"
  },
  "nbformat": 4,
  "nbformat_minor": 0
}